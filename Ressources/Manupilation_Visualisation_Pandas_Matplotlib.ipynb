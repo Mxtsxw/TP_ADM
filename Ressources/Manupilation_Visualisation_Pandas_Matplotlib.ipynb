{
 "cells": [
  {
   "cell_type": "markdown",
   "metadata": {},
   "source": [
    "# Manipulation et visualisation des données avec Pandas et Matplotlib"
   ]
  },
  {
   "cell_type": "markdown",
   "metadata": {},
   "source": [
    "Pandas est une librairie spécialisée dans l'analyse des données. Dans cet atelier, on s'intéresse surtout aux fonctionalités de manipulations de données."
   ]
  },
  {
   "cell_type": "markdown",
   "metadata": {},
   "source": [
    "## 1. Chargement et description des données "
   ]
  },
  {
   "cell_type": "markdown",
   "metadata": {},
   "source": [
    "### 1.1. Librairie Pandas - options et version"
   ]
  },
  {
   "cell_type": "code",
   "execution_count": 8,
   "metadata": {},
   "outputs": [
    {
     "name": "stdout",
     "output_type": "stream",
     "text": [
      "2.2.2\n"
     ]
    }
   ],
   "source": [
    "# Première étape : il faut charger la librarie Pandas\n",
    "import pandas\n",
    "\n",
    "# On modifie le nombre de ligne à afficher\n",
    "pandas.options.display.max_rows =10\n",
    "\n",
    "# On vérifie la version\n",
    "print(pandas.__version__)"
   ]
  },
  {
   "cell_type": "markdown",
   "metadata": {},
   "source": [
    "### 1.2. Structure DataFrame"
   ]
  },
  {
   "cell_type": "markdown",
   "metadata": {},
   "source": [
    "Une DataFrame correspond à une matrice individus-variables où les lignes corerspondent à des observations, les colonnes à des attribus décrivant les individus."
   ]
  },
  {
   "cell_type": "markdown",
   "metadata": {},
   "source": [
    "Concernant le fichier \"heart.txt\" : la première ligne correspond aux noms des champs (des variables); à partir de la seconde ligne, on dispose des valeurs pour chaque enregistrement (individu); le caractère \"\\t\" fait office de séparateur de colonnes."
   ]
  },
  {
   "cell_type": "code",
   "execution_count": 9,
   "metadata": {},
   "outputs": [
    {
     "name": "stdout",
     "output_type": "stream",
     "text": [
      "<class 'pandas.core.frame.DataFrame'>\n"
     ]
    }
   ],
   "source": [
    "# chargement du fichier\n",
    "# df est le nom du DataFrame créé\n",
    "# sep spécifie le caractère séparateur de colonnes\n",
    "# header =0 pour spécifier que la ligne numéro 0 représente les noms des varibales\n",
    "df = pandas.read_table(\"heart.txt\", sep ='\\t',  header =0)\n",
    "\n",
    "# vérification du type de df\n",
    "print(type(df))"
   ]
  },
  {
   "cell_type": "code",
   "execution_count": 3,
   "metadata": {},
   "outputs": [
    {
     "data": {
      "text/html": [
       "<div>\n",
       "<style>\n",
       "    .dataframe thead tr:only-child th {\n",
       "        text-align: right;\n",
       "    }\n",
       "\n",
       "    .dataframe thead th {\n",
       "        text-align: left;\n",
       "    }\n",
       "\n",
       "    .dataframe tbody tr th {\n",
       "        vertical-align: top;\n",
       "    }\n",
       "</style>\n",
       "<table border=\"1\" class=\"dataframe\">\n",
       "  <thead>\n",
       "    <tr style=\"text-align: right;\">\n",
       "      <th></th>\n",
       "      <th>age</th>\n",
       "      <th>sexe</th>\n",
       "      <th>type_douleur</th>\n",
       "      <th>pression</th>\n",
       "      <th>cholester</th>\n",
       "      <th>sucre</th>\n",
       "      <th>electro</th>\n",
       "      <th>taux_max</th>\n",
       "      <th>angine</th>\n",
       "      <th>depression</th>\n",
       "      <th>pic</th>\n",
       "      <th>vaisseau</th>\n",
       "      <th>coeur</th>\n",
       "    </tr>\n",
       "  </thead>\n",
       "  <tbody>\n",
       "    <tr>\n",
       "      <th>0</th>\n",
       "      <td>70</td>\n",
       "      <td>masculin</td>\n",
       "      <td>D</td>\n",
       "      <td>130</td>\n",
       "      <td>322</td>\n",
       "      <td>A</td>\n",
       "      <td>C</td>\n",
       "      <td>109</td>\n",
       "      <td>non</td>\n",
       "      <td>24</td>\n",
       "      <td>2</td>\n",
       "      <td>D</td>\n",
       "      <td>presence</td>\n",
       "    </tr>\n",
       "    <tr>\n",
       "      <th>1</th>\n",
       "      <td>67</td>\n",
       "      <td>feminin</td>\n",
       "      <td>C</td>\n",
       "      <td>115</td>\n",
       "      <td>564</td>\n",
       "      <td>A</td>\n",
       "      <td>C</td>\n",
       "      <td>160</td>\n",
       "      <td>non</td>\n",
       "      <td>16</td>\n",
       "      <td>2</td>\n",
       "      <td>A</td>\n",
       "      <td>absence</td>\n",
       "    </tr>\n",
       "    <tr>\n",
       "      <th>2</th>\n",
       "      <td>57</td>\n",
       "      <td>masculin</td>\n",
       "      <td>B</td>\n",
       "      <td>124</td>\n",
       "      <td>261</td>\n",
       "      <td>A</td>\n",
       "      <td>A</td>\n",
       "      <td>141</td>\n",
       "      <td>non</td>\n",
       "      <td>3</td>\n",
       "      <td>1</td>\n",
       "      <td>A</td>\n",
       "      <td>presence</td>\n",
       "    </tr>\n",
       "    <tr>\n",
       "      <th>3</th>\n",
       "      <td>64</td>\n",
       "      <td>masculin</td>\n",
       "      <td>D</td>\n",
       "      <td>128</td>\n",
       "      <td>263</td>\n",
       "      <td>A</td>\n",
       "      <td>A</td>\n",
       "      <td>105</td>\n",
       "      <td>oui</td>\n",
       "      <td>2</td>\n",
       "      <td>2</td>\n",
       "      <td>B</td>\n",
       "      <td>absence</td>\n",
       "    </tr>\n",
       "    <tr>\n",
       "      <th>4</th>\n",
       "      <td>74</td>\n",
       "      <td>feminin</td>\n",
       "      <td>B</td>\n",
       "      <td>120</td>\n",
       "      <td>269</td>\n",
       "      <td>A</td>\n",
       "      <td>C</td>\n",
       "      <td>121</td>\n",
       "      <td>oui</td>\n",
       "      <td>2</td>\n",
       "      <td>1</td>\n",
       "      <td>B</td>\n",
       "      <td>absence</td>\n",
       "    </tr>\n",
       "  </tbody>\n",
       "</table>\n",
       "</div>"
      ],
      "text/plain": [
       "   age      sexe type_douleur  pression  cholester sucre electro  taux_max  \\\n",
       "0   70  masculin            D       130        322     A       C       109   \n",
       "1   67   feminin            C       115        564     A       C       160   \n",
       "2   57  masculin            B       124        261     A       A       141   \n",
       "3   64  masculin            D       128        263     A       A       105   \n",
       "4   74   feminin            B       120        269     A       C       121   \n",
       "\n",
       "  angine  depression  pic vaisseau     coeur  \n",
       "0    non          24    2        D  presence  \n",
       "1    non          16    2        A   absence  \n",
       "2    non           3    1        A  presence  \n",
       "3    oui           2    2        B   absence  \n",
       "4    oui           2    1        B   absence  "
      ]
     },
     "execution_count": 3,
     "metadata": {},
     "output_type": "execute_result"
    }
   ],
   "source": [
    "# afficher les premières lignes du jeu de données\n",
    "df.head()"
   ]
  },
  {
   "cell_type": "code",
   "execution_count": 4,
   "metadata": {},
   "outputs": [
    {
     "name": "stdout",
     "output_type": "stream",
     "text": [
      "(270, 13)\n"
     ]
    }
   ],
   "source": [
    "# dimensions : nombre de lignes et nombre de colonnes\n",
    "# La ligne d'en-tête n'est pas comptabilisée\n",
    "print(df.shape)"
   ]
  },
  {
   "cell_type": "code",
   "execution_count": 5,
   "metadata": {},
   "outputs": [
    {
     "name": "stdout",
     "output_type": "stream",
     "text": [
      "Index(['age', 'sexe', 'type_douleur', 'pression', 'cholester', 'sucre',\n",
      "       'electro', 'taux_max', 'angine', 'depression', 'pic', 'vaisseau',\n",
      "       'coeur'],\n",
      "      dtype='object')\n"
     ]
    }
   ],
   "source": [
    "# énumération des colonnes\n",
    "print(df.columns)"
   ]
  },
  {
   "cell_type": "code",
   "execution_count": 6,
   "metadata": {},
   "outputs": [
    {
     "name": "stdout",
     "output_type": "stream",
     "text": [
      "age              int64\n",
      "sexe            object\n",
      "type_douleur    object\n",
      "pression         int64\n",
      "cholester        int64\n",
      "                 ...  \n",
      "angine          object\n",
      "depression       int64\n",
      "pic              int64\n",
      "vaisseau        object\n",
      "coeur           object\n",
      "dtype: object\n"
     ]
    }
   ],
   "source": [
    "# type de chaque colonnes\n",
    "print(df.dtypes)"
   ]
  },
  {
   "cell_type": "code",
   "execution_count": 7,
   "metadata": {},
   "outputs": [
    {
     "name": "stdout",
     "output_type": "stream",
     "text": [
      "<class 'pandas.core.frame.DataFrame'>\n",
      "RangeIndex: 270 entries, 0 to 269\n",
      "Data columns (total 13 columns):\n",
      "age             270 non-null int64\n",
      "sexe            270 non-null object\n",
      "type_douleur    270 non-null object\n",
      "pression        270 non-null int64\n",
      "cholester       270 non-null int64\n",
      "sucre           270 non-null object\n",
      "electro         270 non-null object\n",
      "taux_max        270 non-null int64\n",
      "angine          270 non-null object\n",
      "depression      270 non-null int64\n",
      "pic             270 non-null int64\n",
      "vaisseau        270 non-null object\n",
      "coeur           270 non-null object\n",
      "dtypes: int64(6), object(7)\n",
      "memory usage: 27.5+ KB\n",
      "None\n"
     ]
    }
   ],
   "source": [
    "# informations sur les données\n",
    "print(df.info())"
   ]
  },
  {
   "cell_type": "code",
   "execution_count": 8,
   "metadata": {},
   "outputs": [
    {
     "data": {
      "text/html": [
       "<div>\n",
       "<table border=\"1\" class=\"dataframe\">\n",
       "  <thead>\n",
       "    <tr style=\"text-align: right;\">\n",
       "      <th></th>\n",
       "      <th>age</th>\n",
       "      <th>sexe</th>\n",
       "      <th>type_douleur</th>\n",
       "      <th>pression</th>\n",
       "      <th>cholester</th>\n",
       "      <th>sucre</th>\n",
       "      <th>electro</th>\n",
       "      <th>taux_max</th>\n",
       "      <th>angine</th>\n",
       "      <th>depression</th>\n",
       "      <th>pic</th>\n",
       "      <th>vaisseau</th>\n",
       "      <th>coeur</th>\n",
       "    </tr>\n",
       "  </thead>\n",
       "  <tbody>\n",
       "    <tr>\n",
       "      <th>count</th>\n",
       "      <td>270.000000</td>\n",
       "      <td>270</td>\n",
       "      <td>270</td>\n",
       "      <td>270.000000</td>\n",
       "      <td>270.000000</td>\n",
       "      <td>270</td>\n",
       "      <td>270</td>\n",
       "      <td>270.000000</td>\n",
       "      <td>270</td>\n",
       "      <td>270.0</td>\n",
       "      <td>270.000000</td>\n",
       "      <td>270</td>\n",
       "      <td>270</td>\n",
       "    </tr>\n",
       "    <tr>\n",
       "      <th>unique</th>\n",
       "      <td>NaN</td>\n",
       "      <td>2</td>\n",
       "      <td>4</td>\n",
       "      <td>NaN</td>\n",
       "      <td>NaN</td>\n",
       "      <td>2</td>\n",
       "      <td>3</td>\n",
       "      <td>NaN</td>\n",
       "      <td>2</td>\n",
       "      <td>NaN</td>\n",
       "      <td>NaN</td>\n",
       "      <td>4</td>\n",
       "      <td>2</td>\n",
       "    </tr>\n",
       "    <tr>\n",
       "      <th>top</th>\n",
       "      <td>NaN</td>\n",
       "      <td>masculin</td>\n",
       "      <td>D</td>\n",
       "      <td>NaN</td>\n",
       "      <td>NaN</td>\n",
       "      <td>A</td>\n",
       "      <td>C</td>\n",
       "      <td>NaN</td>\n",
       "      <td>non</td>\n",
       "      <td>NaN</td>\n",
       "      <td>NaN</td>\n",
       "      <td>A</td>\n",
       "      <td>absence</td>\n",
       "    </tr>\n",
       "    <tr>\n",
       "      <th>freq</th>\n",
       "      <td>NaN</td>\n",
       "      <td>183</td>\n",
       "      <td>129</td>\n",
       "      <td>NaN</td>\n",
       "      <td>NaN</td>\n",
       "      <td>230</td>\n",
       "      <td>137</td>\n",
       "      <td>NaN</td>\n",
       "      <td>181</td>\n",
       "      <td>NaN</td>\n",
       "      <td>NaN</td>\n",
       "      <td>160</td>\n",
       "      <td>150</td>\n",
       "    </tr>\n",
       "    <tr>\n",
       "      <th>mean</th>\n",
       "      <td>54.433333</td>\n",
       "      <td>NaN</td>\n",
       "      <td>NaN</td>\n",
       "      <td>131.344444</td>\n",
       "      <td>249.659259</td>\n",
       "      <td>NaN</td>\n",
       "      <td>NaN</td>\n",
       "      <td>149.677778</td>\n",
       "      <td>NaN</td>\n",
       "      <td>10.5</td>\n",
       "      <td>1.585185</td>\n",
       "      <td>NaN</td>\n",
       "      <td>NaN</td>\n",
       "    </tr>\n",
       "    <tr>\n",
       "      <th>...</th>\n",
       "      <td>...</td>\n",
       "      <td>...</td>\n",
       "      <td>...</td>\n",
       "      <td>...</td>\n",
       "      <td>...</td>\n",
       "      <td>...</td>\n",
       "      <td>...</td>\n",
       "      <td>...</td>\n",
       "      <td>...</td>\n",
       "      <td>...</td>\n",
       "      <td>...</td>\n",
       "      <td>...</td>\n",
       "      <td>...</td>\n",
       "    </tr>\n",
       "    <tr>\n",
       "      <th>min</th>\n",
       "      <td>29.000000</td>\n",
       "      <td>NaN</td>\n",
       "      <td>NaN</td>\n",
       "      <td>94.000000</td>\n",
       "      <td>126.000000</td>\n",
       "      <td>NaN</td>\n",
       "      <td>NaN</td>\n",
       "      <td>71.000000</td>\n",
       "      <td>NaN</td>\n",
       "      <td>0.0</td>\n",
       "      <td>1.000000</td>\n",
       "      <td>NaN</td>\n",
       "      <td>NaN</td>\n",
       "    </tr>\n",
       "    <tr>\n",
       "      <th>25%</th>\n",
       "      <td>48.000000</td>\n",
       "      <td>NaN</td>\n",
       "      <td>NaN</td>\n",
       "      <td>120.000000</td>\n",
       "      <td>213.000000</td>\n",
       "      <td>NaN</td>\n",
       "      <td>NaN</td>\n",
       "      <td>133.000000</td>\n",
       "      <td>NaN</td>\n",
       "      <td>0.0</td>\n",
       "      <td>1.000000</td>\n",
       "      <td>NaN</td>\n",
       "      <td>NaN</td>\n",
       "    </tr>\n",
       "    <tr>\n",
       "      <th>50%</th>\n",
       "      <td>55.000000</td>\n",
       "      <td>NaN</td>\n",
       "      <td>NaN</td>\n",
       "      <td>130.000000</td>\n",
       "      <td>245.000000</td>\n",
       "      <td>NaN</td>\n",
       "      <td>NaN</td>\n",
       "      <td>153.500000</td>\n",
       "      <td>NaN</td>\n",
       "      <td>8.0</td>\n",
       "      <td>2.000000</td>\n",
       "      <td>NaN</td>\n",
       "      <td>NaN</td>\n",
       "    </tr>\n",
       "    <tr>\n",
       "      <th>75%</th>\n",
       "      <td>61.000000</td>\n",
       "      <td>NaN</td>\n",
       "      <td>NaN</td>\n",
       "      <td>140.000000</td>\n",
       "      <td>280.000000</td>\n",
       "      <td>NaN</td>\n",
       "      <td>NaN</td>\n",
       "      <td>166.000000</td>\n",
       "      <td>NaN</td>\n",
       "      <td>16.0</td>\n",
       "      <td>2.000000</td>\n",
       "      <td>NaN</td>\n",
       "      <td>NaN</td>\n",
       "    </tr>\n",
       "    <tr>\n",
       "      <th>max</th>\n",
       "      <td>77.000000</td>\n",
       "      <td>NaN</td>\n",
       "      <td>NaN</td>\n",
       "      <td>200.000000</td>\n",
       "      <td>564.000000</td>\n",
       "      <td>NaN</td>\n",
       "      <td>NaN</td>\n",
       "      <td>202.000000</td>\n",
       "      <td>NaN</td>\n",
       "      <td>62.0</td>\n",
       "      <td>3.000000</td>\n",
       "      <td>NaN</td>\n",
       "      <td>NaN</td>\n",
       "    </tr>\n",
       "  </tbody>\n",
       "</table>\n",
       "<p>11 rows × 13 columns</p>\n",
       "</div>"
      ],
      "text/plain": [
       "               age      sexe type_douleur    pression   cholester sucre  \\\n",
       "count   270.000000       270          270  270.000000  270.000000   270   \n",
       "unique         NaN         2            4         NaN         NaN     2   \n",
       "top            NaN  masculin            D         NaN         NaN     A   \n",
       "freq           NaN       183          129         NaN         NaN   230   \n",
       "mean     54.433333       NaN          NaN  131.344444  249.659259   NaN   \n",
       "...            ...       ...          ...         ...         ...   ...   \n",
       "min      29.000000       NaN          NaN   94.000000  126.000000   NaN   \n",
       "25%      48.000000       NaN          NaN  120.000000  213.000000   NaN   \n",
       "50%      55.000000       NaN          NaN  130.000000  245.000000   NaN   \n",
       "75%      61.000000       NaN          NaN  140.000000  280.000000   NaN   \n",
       "max      77.000000       NaN          NaN  200.000000  564.000000   NaN   \n",
       "\n",
       "       electro    taux_max angine  depression         pic vaisseau    coeur  \n",
       "count      270  270.000000    270       270.0  270.000000      270      270  \n",
       "unique       3         NaN      2         NaN         NaN        4        2  \n",
       "top          C         NaN    non         NaN         NaN        A  absence  \n",
       "freq       137         NaN    181         NaN         NaN      160      150  \n",
       "mean       NaN  149.677778    NaN        10.5    1.585185      NaN      NaN  \n",
       "...        ...         ...    ...         ...         ...      ...      ...  \n",
       "min        NaN   71.000000    NaN         0.0    1.000000      NaN      NaN  \n",
       "25%        NaN  133.000000    NaN         0.0    1.000000      NaN      NaN  \n",
       "50%        NaN  153.500000    NaN         8.0    2.000000      NaN      NaN  \n",
       "75%        NaN  166.000000    NaN        16.0    2.000000      NaN      NaN  \n",
       "max        NaN  202.000000    NaN        62.0    3.000000      NaN      NaN  \n",
       "\n",
       "[11 rows x 13 columns]"
      ]
     },
     "execution_count": 8,
     "metadata": {},
     "output_type": "execute_result"
    }
   ],
   "source": [
    "# description des données\n",
    "df.describe(include='all')"
   ]
  },
  {
   "cell_type": "markdown",
   "metadata": {},
   "source": [
    "Certains indicateurs statistiques ne sont pas valables que pour les variables numériques (ex. moyenne, médiane, etc. pour age, taux_max, ...) et inversement pour les non-numériques (ex. top, freq, etc. pour sexe, type_douleur, ...), d'où les NAN dans certaines situations."
   ]
  },
  {
   "cell_type": "markdown",
   "metadata": {},
   "source": [
    "## 2. Manipulation des variables"
   ]
  },
  {
   "cell_type": "markdown",
   "metadata": {},
   "source": [
    "### 2.1. Accès aux variables"
   ]
  },
  {
   "cell_type": "markdown",
   "metadata": {},
   "source": [
    "Il est possible d'accéder explicitement aux variables. Dans un premier temps, on utilise directement les noms des champs (les noms des variables, en en-tête de colonnes)."
   ]
  },
  {
   "cell_type": "code",
   "execution_count": 9,
   "metadata": {},
   "outputs": [
    {
     "name": "stdout",
     "output_type": "stream",
     "text": [
      "0      masculin\n",
      "1       feminin\n",
      "2      masculin\n",
      "3      masculin\n",
      "4       feminin\n",
      "         ...   \n",
      "265    masculin\n",
      "266    masculin\n",
      "267     feminin\n",
      "268    masculin\n",
      "269    masculin\n",
      "Name: sexe, dtype: object\n"
     ]
    }
   ],
   "source": [
    "# accès à une colonne\n",
    "print(df['sexe'])"
   ]
  },
  {
   "cell_type": "code",
   "execution_count": 10,
   "metadata": {},
   "outputs": [
    {
     "name": "stdout",
     "output_type": "stream",
     "text": [
      "0      masculin\n",
      "1       feminin\n",
      "2      masculin\n",
      "3      masculin\n",
      "4       feminin\n",
      "         ...   \n",
      "265    masculin\n",
      "266    masculin\n",
      "267     feminin\n",
      "268    masculin\n",
      "269    masculin\n",
      "Name: sexe, dtype: object\n"
     ]
    }
   ],
   "source": [
    "# autre manière d'accèder à une variable par le nom\n",
    "print(df.sexe)"
   ]
  },
  {
   "cell_type": "code",
   "execution_count": 11,
   "metadata": {},
   "outputs": [
    {
     "data": {
      "text/html": [
       "<div>\n",
       "<table border=\"1\" class=\"dataframe\">\n",
       "  <thead>\n",
       "    <tr style=\"text-align: right;\">\n",
       "      <th></th>\n",
       "      <th>sexe</th>\n",
       "      <th>sucre</th>\n",
       "    </tr>\n",
       "  </thead>\n",
       "  <tbody>\n",
       "    <tr>\n",
       "      <th>0</th>\n",
       "      <td>masculin</td>\n",
       "      <td>A</td>\n",
       "    </tr>\n",
       "    <tr>\n",
       "      <th>1</th>\n",
       "      <td>feminin</td>\n",
       "      <td>A</td>\n",
       "    </tr>\n",
       "    <tr>\n",
       "      <th>2</th>\n",
       "      <td>masculin</td>\n",
       "      <td>A</td>\n",
       "    </tr>\n",
       "    <tr>\n",
       "      <th>3</th>\n",
       "      <td>masculin</td>\n",
       "      <td>A</td>\n",
       "    </tr>\n",
       "    <tr>\n",
       "      <th>4</th>\n",
       "      <td>feminin</td>\n",
       "      <td>A</td>\n",
       "    </tr>\n",
       "    <tr>\n",
       "      <th>...</th>\n",
       "      <td>...</td>\n",
       "      <td>...</td>\n",
       "    </tr>\n",
       "    <tr>\n",
       "      <th>265</th>\n",
       "      <td>masculin</td>\n",
       "      <td>B</td>\n",
       "    </tr>\n",
       "    <tr>\n",
       "      <th>266</th>\n",
       "      <td>masculin</td>\n",
       "      <td>A</td>\n",
       "    </tr>\n",
       "    <tr>\n",
       "      <th>267</th>\n",
       "      <td>feminin</td>\n",
       "      <td>A</td>\n",
       "    </tr>\n",
       "    <tr>\n",
       "      <th>268</th>\n",
       "      <td>masculin</td>\n",
       "      <td>A</td>\n",
       "    </tr>\n",
       "    <tr>\n",
       "      <th>269</th>\n",
       "      <td>masculin</td>\n",
       "      <td>A</td>\n",
       "    </tr>\n",
       "  </tbody>\n",
       "</table>\n",
       "<p>270 rows × 2 columns</p>\n",
       "</div>"
      ],
      "text/plain": [
       "         sexe sucre\n",
       "0    masculin     A\n",
       "1     feminin     A\n",
       "2    masculin     A\n",
       "3    masculin     A\n",
       "4     feminin     A\n",
       "..        ...   ...\n",
       "265  masculin     B\n",
       "266  masculin     A\n",
       "267   feminin     A\n",
       "268  masculin     A\n",
       "269  masculin     A\n",
       "\n",
       "[270 rows x 2 columns]"
      ]
     },
     "execution_count": 11,
     "metadata": {},
     "output_type": "execute_result"
    }
   ],
   "source": [
    "# accéder à un ensemble de colonnes\n",
    "df[['sexe','sucre']]"
   ]
  },
  {
   "cell_type": "code",
   "execution_count": 12,
   "metadata": {},
   "outputs": [
    {
     "name": "stdout",
     "output_type": "stream",
     "text": [
      "0    70\n",
      "1    67\n",
      "2    57\n",
      "3    64\n",
      "4    74\n",
      "Name: age, dtype: int64\n"
     ]
    }
   ],
   "source": [
    "# affichage des premières valeurs d'une colonne\n",
    "print(df.age.head())"
   ]
  },
  {
   "cell_type": "code",
   "execution_count": 13,
   "metadata": {},
   "outputs": [
    {
     "name": "stdout",
     "output_type": "stream",
     "text": [
      "265    52\n",
      "266    44\n",
      "267    56\n",
      "268    57\n",
      "269    67\n",
      "Name: age, dtype: int64\n"
     ]
    }
   ],
   "source": [
    "# affichage des dernières valeurs\n",
    "print(df.age.tail())"
   ]
  },
  {
   "cell_type": "code",
   "execution_count": 14,
   "metadata": {},
   "outputs": [
    {
     "name": "stdout",
     "output_type": "stream",
     "text": [
      "count    270.000000\n",
      "mean      54.433333\n",
      "std        9.109067\n",
      "min       29.000000\n",
      "25%       48.000000\n",
      "50%       55.000000\n",
      "75%       61.000000\n",
      "max       77.000000\n",
      "Name: age, dtype: float64\n"
     ]
    }
   ],
   "source": [
    "# statistique decsriptive d'une colonne\n",
    "print(df.age.describe())"
   ]
  },
  {
   "cell_type": "code",
   "execution_count": 15,
   "metadata": {},
   "outputs": [
    {
     "name": "stdout",
     "output_type": "stream",
     "text": [
      "54.43333333333333\n"
     ]
    }
   ],
   "source": [
    "# calculer explicitement la moyenne\n",
    "print(df.age.mean())"
   ]
  },
  {
   "cell_type": "code",
   "execution_count": 16,
   "metadata": {},
   "outputs": [
    {
     "name": "stdout",
     "output_type": "stream",
     "text": [
      "D    129\n",
      "C     79\n",
      "B     42\n",
      "A     20\n",
      "Name: type_douleur, dtype: int64\n"
     ]
    }
   ],
   "source": [
    "# comptage des valeurs\n",
    "print(df.type_douleur.value_counts())"
   ]
  },
  {
   "cell_type": "code",
   "execution_count": 17,
   "metadata": {},
   "outputs": [
    {
     "name": "stdout",
     "output_type": "stream",
     "text": [
      "70\n"
     ]
    }
   ],
   "source": [
    "# première valeur\n",
    "print(df.age[0])"
   ]
  },
  {
   "cell_type": "code",
   "execution_count": 18,
   "metadata": {},
   "outputs": [
    {
     "name": "stdout",
     "output_type": "stream",
     "text": [
      "0    70\n",
      "1    67\n",
      "2    57\n",
      "Name: age, dtype: int64\n"
     ]
    }
   ],
   "source": [
    "# 3 premières valeurs\n",
    "print(df.age[0:3])"
   ]
  },
  {
   "cell_type": "code",
   "execution_count": 19,
   "metadata": {},
   "outputs": [
    {
     "name": "stdout",
     "output_type": "stream",
     "text": [
      "214    29\n",
      "174    34\n",
      "138    34\n",
      "224    35\n",
      "81     35\n",
      "       ..\n",
      "15     71\n",
      "255    71\n",
      "4      74\n",
      "73     76\n",
      "199    77\n",
      "Name: age, dtype: int64\n"
     ]
    }
   ],
   "source": [
    "# trier les valeurs d'une variable de manière croissante\n",
    "print(df.age.sort_values())"
   ]
  },
  {
   "cell_type": "code",
   "execution_count": 20,
   "metadata": {},
   "outputs": [
    {
     "name": "stdout",
     "output_type": "stream",
     "text": [
      "0      214\n",
      "1      174\n",
      "2      138\n",
      "3      224\n",
      "4       81\n",
      "      ... \n",
      "265     15\n",
      "266    255\n",
      "267      4\n",
      "268     73\n",
      "269    199\n",
      "Name: age, dtype: int64\n"
     ]
    }
   ],
   "source": [
    "# on peut aussi obtenir les indices des valeurs triées\n",
    "print(df.age.argsort())"
   ]
  },
  {
   "cell_type": "markdown",
   "metadata": {},
   "source": [
    "214 est le numéro de l'individu portant la plus petite valeur de la variable age, puis vient le n°174, etc. Ces résultats sont complètement cohérents avec ceux"
   ]
  },
  {
   "cell_type": "code",
   "execution_count": 21,
   "metadata": {},
   "outputs": [
    {
     "data": {
      "text/html": [
       "<div>\n",
       "<table border=\"1\" class=\"dataframe\">\n",
       "  <thead>\n",
       "    <tr style=\"text-align: right;\">\n",
       "      <th></th>\n",
       "      <th>age</th>\n",
       "      <th>sexe</th>\n",
       "      <th>type_douleur</th>\n",
       "      <th>pression</th>\n",
       "      <th>cholester</th>\n",
       "      <th>sucre</th>\n",
       "      <th>electro</th>\n",
       "      <th>taux_max</th>\n",
       "      <th>angine</th>\n",
       "      <th>depression</th>\n",
       "      <th>pic</th>\n",
       "      <th>vaisseau</th>\n",
       "      <th>coeur</th>\n",
       "    </tr>\n",
       "  </thead>\n",
       "  <tbody>\n",
       "    <tr>\n",
       "      <th>214</th>\n",
       "      <td>29</td>\n",
       "      <td>masculin</td>\n",
       "      <td>B</td>\n",
       "      <td>130</td>\n",
       "      <td>204</td>\n",
       "      <td>A</td>\n",
       "      <td>C</td>\n",
       "      <td>202</td>\n",
       "      <td>non</td>\n",
       "      <td>0</td>\n",
       "      <td>1</td>\n",
       "      <td>A</td>\n",
       "      <td>absence</td>\n",
       "    </tr>\n",
       "    <tr>\n",
       "      <th>174</th>\n",
       "      <td>34</td>\n",
       "      <td>masculin</td>\n",
       "      <td>A</td>\n",
       "      <td>118</td>\n",
       "      <td>182</td>\n",
       "      <td>A</td>\n",
       "      <td>C</td>\n",
       "      <td>174</td>\n",
       "      <td>non</td>\n",
       "      <td>0</td>\n",
       "      <td>1</td>\n",
       "      <td>A</td>\n",
       "      <td>absence</td>\n",
       "    </tr>\n",
       "    <tr>\n",
       "      <th>138</th>\n",
       "      <td>34</td>\n",
       "      <td>feminin</td>\n",
       "      <td>B</td>\n",
       "      <td>118</td>\n",
       "      <td>210</td>\n",
       "      <td>A</td>\n",
       "      <td>A</td>\n",
       "      <td>192</td>\n",
       "      <td>non</td>\n",
       "      <td>7</td>\n",
       "      <td>1</td>\n",
       "      <td>A</td>\n",
       "      <td>absence</td>\n",
       "    </tr>\n",
       "    <tr>\n",
       "      <th>224</th>\n",
       "      <td>35</td>\n",
       "      <td>feminin</td>\n",
       "      <td>D</td>\n",
       "      <td>138</td>\n",
       "      <td>183</td>\n",
       "      <td>A</td>\n",
       "      <td>A</td>\n",
       "      <td>182</td>\n",
       "      <td>non</td>\n",
       "      <td>14</td>\n",
       "      <td>1</td>\n",
       "      <td>A</td>\n",
       "      <td>absence</td>\n",
       "    </tr>\n",
       "    <tr>\n",
       "      <th>81</th>\n",
       "      <td>35</td>\n",
       "      <td>masculin</td>\n",
       "      <td>D</td>\n",
       "      <td>120</td>\n",
       "      <td>198</td>\n",
       "      <td>A</td>\n",
       "      <td>A</td>\n",
       "      <td>130</td>\n",
       "      <td>oui</td>\n",
       "      <td>16</td>\n",
       "      <td>2</td>\n",
       "      <td>A</td>\n",
       "      <td>presence</td>\n",
       "    </tr>\n",
       "  </tbody>\n",
       "</table>\n",
       "</div>"
      ],
      "text/plain": [
       "     age      sexe type_douleur  pression  cholester sucre electro  taux_max  \\\n",
       "214   29  masculin            B       130        204     A       C       202   \n",
       "174   34  masculin            A       118        182     A       C       174   \n",
       "138   34   feminin            B       118        210     A       A       192   \n",
       "224   35   feminin            D       138        183     A       A       182   \n",
       "81    35  masculin            D       120        198     A       A       130   \n",
       "\n",
       "    angine  depression  pic vaisseau     coeur  \n",
       "214    non           0    1        A   absence  \n",
       "174    non           0    1        A   absence  \n",
       "138    non           7    1        A   absence  \n",
       "224    non          14    1        A   absence  \n",
       "81     oui          16    2        A  presence  "
      ]
     },
     "execution_count": 21,
     "metadata": {},
     "output_type": "execute_result"
    }
   ],
   "source": [
    "# le tri peut être généralisé aux DataFrame\n",
    "df.sort_values(by='age').head()"
   ]
  },
  {
   "cell_type": "markdown",
   "metadata": {},
   "source": [
    "### 2.2. Itérations sur les variables"
   ]
  },
  {
   "cell_type": "markdown",
   "metadata": {},
   "source": [
    "Les itérations sur les varibles peuvent se faire via une boucle, ou via l'utilisation des fonctions callback appelée à l'aide d'une fonction .apply()."
   ]
  },
  {
   "cell_type": "code",
   "execution_count": 22,
   "metadata": {},
   "outputs": [
    {
     "name": "stdout",
     "output_type": "stream",
     "text": [
      "int64\n",
      "object\n",
      "object\n",
      "int64\n",
      "int64\n",
      "object\n",
      "object\n",
      "int64\n",
      "object\n",
      "int64\n",
      "int64\n",
      "object\n",
      "object\n"
     ]
    }
   ],
   "source": [
    "# boucler sur l'ensemble des colonnes\n",
    "for col in df.columns:\n",
    "    print(df[col].dtype)"
   ]
  },
  {
   "cell_type": "code",
   "execution_count": 11,
   "metadata": {},
   "outputs": [
    {
     "name": "stdout",
     "output_type": "stream",
     "text": [
      "0      109.500000\n",
      "1      154.000000\n",
      "2       97.833333\n",
      "3       94.000000\n",
      "4       97.833333\n",
      "          ...    \n",
      "265     98.500000\n",
      "266    100.166667\n",
      "267    109.666667\n",
      "268     90.500000\n",
      "269    106.333333\n",
      "Length: 270, dtype: float64\n"
     ]
    }
   ],
   "source": [
    "# passage par la librairie numpy\n",
    "import numpy\n",
    "\n",
    "# fonction call back\n",
    "def operation(x):\n",
    "    return(x.mean())\n",
    "\n",
    "# appel de la fonction sur l'ensemble des colonnes du DataFrame\n",
    "# axis =0 ==> chaque colonne sera transmise à la fonction operation()\n",
    "# la selection select_dtype() permet d'exclure les variables non numériques\n",
    "resultat = df.select_dtypes(exclude=['object']).apply(operation, axis=0)\n",
    "print(resultat)"
   ]
  },
  {
   "cell_type": "markdown",
   "metadata": {},
   "source": [
    "## 3. Accès indicé aux données d'un DataFrame\n"
   ]
  },
  {
   "cell_type": "markdown",
   "metadata": {},
   "source": [
    "On peut accéder aux valeurs du DataFrame via des indices ou plages d'indice. La structure se comporte alors comme une matrice. La cellule en haut et à gauche est de coordonnée (0,0).\n",
    "\n",
    "Il ya différentes manières de le faire, l'utilisation de .iloc[,] constitue une des solutions les plus simples. "
   ]
  },
  {
   "cell_type": "code",
   "execution_count": 24,
   "metadata": {},
   "outputs": [
    {
     "name": "stdout",
     "output_type": "stream",
     "text": [
      "70\n"
     ]
    }
   ],
   "source": [
    "# accès à la valeur située en (0,0)\n",
    "print(df.iloc[0,0])"
   ]
  },
  {
   "cell_type": "code",
   "execution_count": 25,
   "metadata": {},
   "outputs": [
    {
     "name": "stdout",
     "output_type": "stream",
     "text": [
      "67\n"
     ]
    }
   ],
   "source": [
    "# valeur située en dernière ligne, première colonne\n",
    "print(df.iloc[-1,0])"
   ]
  },
  {
   "cell_type": "code",
   "execution_count": 26,
   "metadata": {},
   "outputs": [
    {
     "data": {
      "text/html": [
       "<div>\n",
       "<table border=\"1\" class=\"dataframe\">\n",
       "  <thead>\n",
       "    <tr style=\"text-align: right;\">\n",
       "      <th></th>\n",
       "      <th>age</th>\n",
       "      <th>sexe</th>\n",
       "      <th>type_douleur</th>\n",
       "      <th>pression</th>\n",
       "      <th>cholester</th>\n",
       "      <th>sucre</th>\n",
       "      <th>electro</th>\n",
       "      <th>taux_max</th>\n",
       "      <th>angine</th>\n",
       "      <th>depression</th>\n",
       "      <th>pic</th>\n",
       "      <th>vaisseau</th>\n",
       "      <th>coeur</th>\n",
       "    </tr>\n",
       "  </thead>\n",
       "  <tbody>\n",
       "    <tr>\n",
       "      <th>0</th>\n",
       "      <td>70</td>\n",
       "      <td>masculin</td>\n",
       "      <td>D</td>\n",
       "      <td>130</td>\n",
       "      <td>322</td>\n",
       "      <td>A</td>\n",
       "      <td>C</td>\n",
       "      <td>109</td>\n",
       "      <td>non</td>\n",
       "      <td>24</td>\n",
       "      <td>2</td>\n",
       "      <td>D</td>\n",
       "      <td>presence</td>\n",
       "    </tr>\n",
       "    <tr>\n",
       "      <th>1</th>\n",
       "      <td>67</td>\n",
       "      <td>feminin</td>\n",
       "      <td>C</td>\n",
       "      <td>115</td>\n",
       "      <td>564</td>\n",
       "      <td>A</td>\n",
       "      <td>C</td>\n",
       "      <td>160</td>\n",
       "      <td>non</td>\n",
       "      <td>16</td>\n",
       "      <td>2</td>\n",
       "      <td>A</td>\n",
       "      <td>absence</td>\n",
       "    </tr>\n",
       "    <tr>\n",
       "      <th>2</th>\n",
       "      <td>57</td>\n",
       "      <td>masculin</td>\n",
       "      <td>B</td>\n",
       "      <td>124</td>\n",
       "      <td>261</td>\n",
       "      <td>A</td>\n",
       "      <td>A</td>\n",
       "      <td>141</td>\n",
       "      <td>non</td>\n",
       "      <td>3</td>\n",
       "      <td>1</td>\n",
       "      <td>A</td>\n",
       "      <td>presence</td>\n",
       "    </tr>\n",
       "    <tr>\n",
       "      <th>3</th>\n",
       "      <td>64</td>\n",
       "      <td>masculin</td>\n",
       "      <td>D</td>\n",
       "      <td>128</td>\n",
       "      <td>263</td>\n",
       "      <td>A</td>\n",
       "      <td>A</td>\n",
       "      <td>105</td>\n",
       "      <td>oui</td>\n",
       "      <td>2</td>\n",
       "      <td>2</td>\n",
       "      <td>B</td>\n",
       "      <td>absence</td>\n",
       "    </tr>\n",
       "    <tr>\n",
       "      <th>4</th>\n",
       "      <td>74</td>\n",
       "      <td>feminin</td>\n",
       "      <td>B</td>\n",
       "      <td>120</td>\n",
       "      <td>269</td>\n",
       "      <td>A</td>\n",
       "      <td>C</td>\n",
       "      <td>121</td>\n",
       "      <td>oui</td>\n",
       "      <td>2</td>\n",
       "      <td>1</td>\n",
       "      <td>B</td>\n",
       "      <td>absence</td>\n",
       "    </tr>\n",
       "  </tbody>\n",
       "</table>\n",
       "</div>"
      ],
      "text/plain": [
       "   age      sexe type_douleur  pression  cholester sucre electro  taux_max  \\\n",
       "0   70  masculin            D       130        322     A       C       109   \n",
       "1   67   feminin            C       115        564     A       C       160   \n",
       "2   57  masculin            B       124        261     A       A       141   \n",
       "3   64  masculin            D       128        263     A       A       105   \n",
       "4   74   feminin            B       120        269     A       C       121   \n",
       "\n",
       "  angine  depression  pic vaisseau     coeur  \n",
       "0    non          24    2        D  presence  \n",
       "1    non          16    2        A   absence  \n",
       "2    non           3    1        A  presence  \n",
       "3    oui           2    2        B   absence  \n",
       "4    oui           2    1        B   absence  "
      ]
     },
     "execution_count": 26,
     "metadata": {},
     "output_type": "execute_result"
    }
   ],
   "source": [
    "# 5 premières valeurs de toutes les colonnes\n",
    "# lignes ==> 0:5 (0 à 5 (non inclus))\n",
    "# colonnes ==> : (toutes les colonnes)\n",
    "df.iloc[0:5,:]"
   ]
  },
  {
   "cell_type": "code",
   "execution_count": 27,
   "metadata": {},
   "outputs": [
    {
     "data": {
      "text/html": [
       "<div>\n",
       "<table border=\"1\" class=\"dataframe\">\n",
       "  <thead>\n",
       "    <tr style=\"text-align: right;\">\n",
       "      <th></th>\n",
       "      <th>age</th>\n",
       "      <th>sexe</th>\n",
       "      <th>type_douleur</th>\n",
       "      <th>pression</th>\n",
       "      <th>cholester</th>\n",
       "      <th>sucre</th>\n",
       "      <th>electro</th>\n",
       "      <th>taux_max</th>\n",
       "      <th>angine</th>\n",
       "      <th>depression</th>\n",
       "      <th>pic</th>\n",
       "      <th>vaisseau</th>\n",
       "      <th>coeur</th>\n",
       "    </tr>\n",
       "  </thead>\n",
       "  <tbody>\n",
       "    <tr>\n",
       "      <th>265</th>\n",
       "      <td>52</td>\n",
       "      <td>masculin</td>\n",
       "      <td>C</td>\n",
       "      <td>172</td>\n",
       "      <td>199</td>\n",
       "      <td>B</td>\n",
       "      <td>A</td>\n",
       "      <td>162</td>\n",
       "      <td>non</td>\n",
       "      <td>5</td>\n",
       "      <td>1</td>\n",
       "      <td>A</td>\n",
       "      <td>absence</td>\n",
       "    </tr>\n",
       "    <tr>\n",
       "      <th>266</th>\n",
       "      <td>44</td>\n",
       "      <td>masculin</td>\n",
       "      <td>B</td>\n",
       "      <td>120</td>\n",
       "      <td>263</td>\n",
       "      <td>A</td>\n",
       "      <td>A</td>\n",
       "      <td>173</td>\n",
       "      <td>non</td>\n",
       "      <td>0</td>\n",
       "      <td>1</td>\n",
       "      <td>A</td>\n",
       "      <td>absence</td>\n",
       "    </tr>\n",
       "    <tr>\n",
       "      <th>267</th>\n",
       "      <td>56</td>\n",
       "      <td>feminin</td>\n",
       "      <td>B</td>\n",
       "      <td>140</td>\n",
       "      <td>294</td>\n",
       "      <td>A</td>\n",
       "      <td>C</td>\n",
       "      <td>153</td>\n",
       "      <td>non</td>\n",
       "      <td>13</td>\n",
       "      <td>2</td>\n",
       "      <td>A</td>\n",
       "      <td>absence</td>\n",
       "    </tr>\n",
       "    <tr>\n",
       "      <th>268</th>\n",
       "      <td>57</td>\n",
       "      <td>masculin</td>\n",
       "      <td>D</td>\n",
       "      <td>140</td>\n",
       "      <td>192</td>\n",
       "      <td>A</td>\n",
       "      <td>A</td>\n",
       "      <td>148</td>\n",
       "      <td>non</td>\n",
       "      <td>4</td>\n",
       "      <td>2</td>\n",
       "      <td>A</td>\n",
       "      <td>absence</td>\n",
       "    </tr>\n",
       "    <tr>\n",
       "      <th>269</th>\n",
       "      <td>67</td>\n",
       "      <td>masculin</td>\n",
       "      <td>D</td>\n",
       "      <td>160</td>\n",
       "      <td>286</td>\n",
       "      <td>A</td>\n",
       "      <td>C</td>\n",
       "      <td>108</td>\n",
       "      <td>oui</td>\n",
       "      <td>15</td>\n",
       "      <td>2</td>\n",
       "      <td>D</td>\n",
       "      <td>presence</td>\n",
       "    </tr>\n",
       "  </tbody>\n",
       "</table>\n",
       "</div>"
      ],
      "text/plain": [
       "     age      sexe type_douleur  pression  cholester sucre electro  taux_max  \\\n",
       "265   52  masculin            C       172        199     B       A       162   \n",
       "266   44  masculin            B       120        263     A       A       173   \n",
       "267   56   feminin            B       140        294     A       C       153   \n",
       "268   57  masculin            D       140        192     A       A       148   \n",
       "269   67  masculin            D       160        286     A       C       108   \n",
       "\n",
       "    angine  depression  pic vaisseau     coeur  \n",
       "265    non           5    1        A   absence  \n",
       "266    non           0    1        A   absence  \n",
       "267    non          13    2        A   absence  \n",
       "268    non           4    2        A   absence  \n",
       "269    oui          15    2        D  presence  "
      ]
     },
     "execution_count": 27,
     "metadata": {},
     "output_type": "execute_result"
    }
   ],
   "source": [
    "# avec l'indiçage négatif, on peut facilement accéder aux 5 dernières lignes\n",
    "df.iloc[-5:,:]"
   ]
  },
  {
   "cell_type": "code",
   "execution_count": 28,
   "metadata": {},
   "outputs": [
    {
     "data": {
      "text/html": [
       "<div>\n",
       "<table border=\"1\" class=\"dataframe\">\n",
       "  <thead>\n",
       "    <tr style=\"text-align: right;\">\n",
       "      <th></th>\n",
       "      <th>age</th>\n",
       "      <th>sexe</th>\n",
       "    </tr>\n",
       "  </thead>\n",
       "  <tbody>\n",
       "    <tr>\n",
       "      <th>0</th>\n",
       "      <td>70</td>\n",
       "      <td>masculin</td>\n",
       "    </tr>\n",
       "    <tr>\n",
       "      <th>1</th>\n",
       "      <td>67</td>\n",
       "      <td>feminin</td>\n",
       "    </tr>\n",
       "    <tr>\n",
       "      <th>2</th>\n",
       "      <td>57</td>\n",
       "      <td>masculin</td>\n",
       "    </tr>\n",
       "    <tr>\n",
       "      <th>3</th>\n",
       "      <td>64</td>\n",
       "      <td>masculin</td>\n",
       "    </tr>\n",
       "    <tr>\n",
       "      <th>4</th>\n",
       "      <td>74</td>\n",
       "      <td>feminin</td>\n",
       "    </tr>\n",
       "  </tbody>\n",
       "</table>\n",
       "</div>"
      ],
      "text/plain": [
       "   age      sexe\n",
       "0   70  masculin\n",
       "1   67   feminin\n",
       "2   57  masculin\n",
       "3   64  masculin\n",
       "4   74   feminin"
      ]
     },
     "execution_count": 28,
     "metadata": {},
     "output_type": "execute_result"
    }
   ],
   "source": [
    "# 5 premières lignes et 2 premières colonnes\n",
    "df.iloc[0:5,0:2]"
   ]
  },
  {
   "cell_type": "code",
   "execution_count": 29,
   "metadata": {},
   "outputs": [
    {
     "data": {
      "text/html": [
       "<div>\n",
       "<table border=\"1\" class=\"dataframe\">\n",
       "  <thead>\n",
       "    <tr style=\"text-align: right;\">\n",
       "      <th></th>\n",
       "      <th>age</th>\n",
       "      <th>sexe</th>\n",
       "      <th>cholester</th>\n",
       "    </tr>\n",
       "  </thead>\n",
       "  <tbody>\n",
       "    <tr>\n",
       "      <th>0</th>\n",
       "      <td>70</td>\n",
       "      <td>masculin</td>\n",
       "      <td>322</td>\n",
       "    </tr>\n",
       "    <tr>\n",
       "      <th>1</th>\n",
       "      <td>67</td>\n",
       "      <td>feminin</td>\n",
       "      <td>564</td>\n",
       "    </tr>\n",
       "    <tr>\n",
       "      <th>2</th>\n",
       "      <td>57</td>\n",
       "      <td>masculin</td>\n",
       "      <td>261</td>\n",
       "    </tr>\n",
       "    <tr>\n",
       "      <th>3</th>\n",
       "      <td>64</td>\n",
       "      <td>masculin</td>\n",
       "      <td>263</td>\n",
       "    </tr>\n",
       "    <tr>\n",
       "      <th>4</th>\n",
       "      <td>74</td>\n",
       "      <td>feminin</td>\n",
       "      <td>269</td>\n",
       "    </tr>\n",
       "  </tbody>\n",
       "</table>\n",
       "</div>"
      ],
      "text/plain": [
       "   age      sexe  cholester\n",
       "0   70  masculin        322\n",
       "1   67   feminin        564\n",
       "2   57  masculin        261\n",
       "3   64  masculin        263\n",
       "4   74   feminin        269"
      ]
     },
     "execution_count": 29,
     "metadata": {},
     "output_type": "execute_result"
    }
   ],
   "source": [
    "# 5 premières lignes et les colonnes 0,1 et 4\n",
    "df.iloc[0:5,[0,1,4]]"
   ]
  },
  {
   "cell_type": "markdown",
   "metadata": {},
   "source": [
    "## 4. Restrictions avec les conditions - les requêtes"
   ]
  },
  {
   "cell_type": "markdown",
   "metadata": {},
   "source": [
    "On peut isloer les sous-ensembles d'observations répondant à des critères définis sur les champs. On utilisera préférentiellement la méthode .loc[,]."
   ]
  },
  {
   "cell_type": "code",
   "execution_count": 30,
   "metadata": {},
   "outputs": [
    {
     "data": {
      "text/html": [
       "<div>\n",
       "<table border=\"1\" class=\"dataframe\">\n",
       "  <thead>\n",
       "    <tr style=\"text-align: right;\">\n",
       "      <th></th>\n",
       "      <th>age</th>\n",
       "      <th>sexe</th>\n",
       "      <th>type_douleur</th>\n",
       "      <th>pression</th>\n",
       "      <th>cholester</th>\n",
       "      <th>sucre</th>\n",
       "      <th>electro</th>\n",
       "      <th>taux_max</th>\n",
       "      <th>angine</th>\n",
       "      <th>depression</th>\n",
       "      <th>pic</th>\n",
       "      <th>vaisseau</th>\n",
       "      <th>coeur</th>\n",
       "    </tr>\n",
       "  </thead>\n",
       "  <tbody>\n",
       "    <tr>\n",
       "      <th>13</th>\n",
       "      <td>61</td>\n",
       "      <td>masculin</td>\n",
       "      <td>A</td>\n",
       "      <td>134</td>\n",
       "      <td>234</td>\n",
       "      <td>A</td>\n",
       "      <td>A</td>\n",
       "      <td>145</td>\n",
       "      <td>non</td>\n",
       "      <td>26</td>\n",
       "      <td>2</td>\n",
       "      <td>C</td>\n",
       "      <td>presence</td>\n",
       "    </tr>\n",
       "    <tr>\n",
       "      <th>18</th>\n",
       "      <td>64</td>\n",
       "      <td>masculin</td>\n",
       "      <td>A</td>\n",
       "      <td>110</td>\n",
       "      <td>211</td>\n",
       "      <td>A</td>\n",
       "      <td>C</td>\n",
       "      <td>144</td>\n",
       "      <td>oui</td>\n",
       "      <td>18</td>\n",
       "      <td>2</td>\n",
       "      <td>A</td>\n",
       "      <td>absence</td>\n",
       "    </tr>\n",
       "    <tr>\n",
       "      <th>19</th>\n",
       "      <td>40</td>\n",
       "      <td>masculin</td>\n",
       "      <td>A</td>\n",
       "      <td>140</td>\n",
       "      <td>199</td>\n",
       "      <td>A</td>\n",
       "      <td>A</td>\n",
       "      <td>178</td>\n",
       "      <td>oui</td>\n",
       "      <td>14</td>\n",
       "      <td>1</td>\n",
       "      <td>A</td>\n",
       "      <td>absence</td>\n",
       "    </tr>\n",
       "    <tr>\n",
       "      <th>37</th>\n",
       "      <td>59</td>\n",
       "      <td>masculin</td>\n",
       "      <td>A</td>\n",
       "      <td>160</td>\n",
       "      <td>273</td>\n",
       "      <td>A</td>\n",
       "      <td>C</td>\n",
       "      <td>125</td>\n",
       "      <td>non</td>\n",
       "      <td>0</td>\n",
       "      <td>1</td>\n",
       "      <td>A</td>\n",
       "      <td>presence</td>\n",
       "    </tr>\n",
       "    <tr>\n",
       "      <th>63</th>\n",
       "      <td>60</td>\n",
       "      <td>feminin</td>\n",
       "      <td>A</td>\n",
       "      <td>150</td>\n",
       "      <td>240</td>\n",
       "      <td>A</td>\n",
       "      <td>A</td>\n",
       "      <td>171</td>\n",
       "      <td>non</td>\n",
       "      <td>9</td>\n",
       "      <td>1</td>\n",
       "      <td>A</td>\n",
       "      <td>absence</td>\n",
       "    </tr>\n",
       "    <tr>\n",
       "      <th>...</th>\n",
       "      <td>...</td>\n",
       "      <td>...</td>\n",
       "      <td>...</td>\n",
       "      <td>...</td>\n",
       "      <td>...</td>\n",
       "      <td>...</td>\n",
       "      <td>...</td>\n",
       "      <td>...</td>\n",
       "      <td>...</td>\n",
       "      <td>...</td>\n",
       "      <td>...</td>\n",
       "      <td>...</td>\n",
       "      <td>...</td>\n",
       "    </tr>\n",
       "    <tr>\n",
       "      <th>198</th>\n",
       "      <td>69</td>\n",
       "      <td>feminin</td>\n",
       "      <td>A</td>\n",
       "      <td>140</td>\n",
       "      <td>239</td>\n",
       "      <td>A</td>\n",
       "      <td>A</td>\n",
       "      <td>151</td>\n",
       "      <td>non</td>\n",
       "      <td>18</td>\n",
       "      <td>1</td>\n",
       "      <td>C</td>\n",
       "      <td>absence</td>\n",
       "    </tr>\n",
       "    <tr>\n",
       "      <th>205</th>\n",
       "      <td>52</td>\n",
       "      <td>masculin</td>\n",
       "      <td>A</td>\n",
       "      <td>152</td>\n",
       "      <td>298</td>\n",
       "      <td>B</td>\n",
       "      <td>A</td>\n",
       "      <td>178</td>\n",
       "      <td>non</td>\n",
       "      <td>12</td>\n",
       "      <td>2</td>\n",
       "      <td>A</td>\n",
       "      <td>absence</td>\n",
       "    </tr>\n",
       "    <tr>\n",
       "      <th>210</th>\n",
       "      <td>59</td>\n",
       "      <td>masculin</td>\n",
       "      <td>A</td>\n",
       "      <td>170</td>\n",
       "      <td>288</td>\n",
       "      <td>A</td>\n",
       "      <td>C</td>\n",
       "      <td>159</td>\n",
       "      <td>non</td>\n",
       "      <td>2</td>\n",
       "      <td>2</td>\n",
       "      <td>A</td>\n",
       "      <td>presence</td>\n",
       "    </tr>\n",
       "    <tr>\n",
       "      <th>228</th>\n",
       "      <td>58</td>\n",
       "      <td>feminin</td>\n",
       "      <td>A</td>\n",
       "      <td>150</td>\n",
       "      <td>283</td>\n",
       "      <td>B</td>\n",
       "      <td>C</td>\n",
       "      <td>162</td>\n",
       "      <td>non</td>\n",
       "      <td>10</td>\n",
       "      <td>1</td>\n",
       "      <td>A</td>\n",
       "      <td>absence</td>\n",
       "    </tr>\n",
       "    <tr>\n",
       "      <th>229</th>\n",
       "      <td>52</td>\n",
       "      <td>masculin</td>\n",
       "      <td>A</td>\n",
       "      <td>118</td>\n",
       "      <td>186</td>\n",
       "      <td>A</td>\n",
       "      <td>C</td>\n",
       "      <td>190</td>\n",
       "      <td>non</td>\n",
       "      <td>0</td>\n",
       "      <td>2</td>\n",
       "      <td>A</td>\n",
       "      <td>absence</td>\n",
       "    </tr>\n",
       "  </tbody>\n",
       "</table>\n",
       "<p>20 rows × 13 columns</p>\n",
       "</div>"
      ],
      "text/plain": [
       "     age      sexe type_douleur  pression  cholester sucre electro  taux_max  \\\n",
       "13    61  masculin            A       134        234     A       A       145   \n",
       "18    64  masculin            A       110        211     A       C       144   \n",
       "19    40  masculin            A       140        199     A       A       178   \n",
       "37    59  masculin            A       160        273     A       C       125   \n",
       "63    60   feminin            A       150        240     A       A       171   \n",
       "..   ...       ...          ...       ...        ...   ...     ...       ...   \n",
       "198   69   feminin            A       140        239     A       A       151   \n",
       "205   52  masculin            A       152        298     B       A       178   \n",
       "210   59  masculin            A       170        288     A       C       159   \n",
       "228   58   feminin            A       150        283     B       C       162   \n",
       "229   52  masculin            A       118        186     A       C       190   \n",
       "\n",
       "    angine  depression  pic vaisseau     coeur  \n",
       "13     non          26    2        C  presence  \n",
       "18     oui          18    2        A   absence  \n",
       "19     oui          14    1        A   absence  \n",
       "37     non           0    1        A  presence  \n",
       "63     non           9    1        A   absence  \n",
       "..     ...         ...  ...      ...       ...  \n",
       "198    non          18    1        C   absence  \n",
       "205    non          12    2        A   absence  \n",
       "210    non           2    2        A  presence  \n",
       "228    non          10    1        A   absence  \n",
       "229    non           0    2        A   absence  \n",
       "\n",
       "[20 rows x 13 columns]"
      ]
     },
     "execution_count": 30,
     "metadata": {},
     "output_type": "execute_result"
    }
   ],
   "source": [
    "# liste des individus présentant une douleur de type A\n",
    "df.loc[df['type_douleur']==\"A\",:]"
   ]
  },
  {
   "cell_type": "code",
   "execution_count": 31,
   "metadata": {},
   "outputs": [
    {
     "name": "stdout",
     "output_type": "stream",
     "text": [
      "0      False\n",
      "1      False\n",
      "2      False\n",
      "3      False\n",
      "4      False\n",
      "       ...  \n",
      "265    False\n",
      "266    False\n",
      "267    False\n",
      "268    False\n",
      "269    False\n",
      "Name: type_douleur, dtype: bool\n"
     ]
    }
   ],
   "source": [
    "# indexer avec un vecteur de booléens\n",
    "print(df['type_douleur']==\"A\")"
   ]
  },
  {
   "cell_type": "markdown",
   "metadata": {},
   "source": [
    "Seules les observations correspondant à True sont repris par .loc[,]. On peut les compter"
   ]
  },
  {
   "cell_type": "code",
   "execution_count": 32,
   "metadata": {},
   "outputs": [
    {
     "name": "stdout",
     "output_type": "stream",
     "text": [
      "False    250\n",
      "True      20\n",
      "Name: type_douleur, dtype: int64\n"
     ]
    }
   ],
   "source": [
    "print((df['type_douleur']==\"A\").value_counts())"
   ]
  },
  {
   "cell_type": "code",
   "execution_count": 33,
   "metadata": {},
   "outputs": [
    {
     "data": {
      "text/html": [
       "<div>\n",
       "<table border=\"1\" class=\"dataframe\">\n",
       "  <thead>\n",
       "    <tr style=\"text-align: right;\">\n",
       "      <th></th>\n",
       "      <th>age</th>\n",
       "      <th>sexe</th>\n",
       "      <th>type_douleur</th>\n",
       "      <th>pression</th>\n",
       "      <th>cholester</th>\n",
       "      <th>sucre</th>\n",
       "      <th>electro</th>\n",
       "      <th>taux_max</th>\n",
       "      <th>angine</th>\n",
       "      <th>depression</th>\n",
       "      <th>pic</th>\n",
       "      <th>vaisseau</th>\n",
       "      <th>coeur</th>\n",
       "    </tr>\n",
       "  </thead>\n",
       "  <tbody>\n",
       "    <tr>\n",
       "      <th>2</th>\n",
       "      <td>57</td>\n",
       "      <td>masculin</td>\n",
       "      <td>B</td>\n",
       "      <td>124</td>\n",
       "      <td>261</td>\n",
       "      <td>A</td>\n",
       "      <td>A</td>\n",
       "      <td>141</td>\n",
       "      <td>non</td>\n",
       "      <td>3</td>\n",
       "      <td>1</td>\n",
       "      <td>A</td>\n",
       "      <td>presence</td>\n",
       "    </tr>\n",
       "    <tr>\n",
       "      <th>4</th>\n",
       "      <td>74</td>\n",
       "      <td>feminin</td>\n",
       "      <td>B</td>\n",
       "      <td>120</td>\n",
       "      <td>269</td>\n",
       "      <td>A</td>\n",
       "      <td>C</td>\n",
       "      <td>121</td>\n",
       "      <td>oui</td>\n",
       "      <td>2</td>\n",
       "      <td>1</td>\n",
       "      <td>B</td>\n",
       "      <td>absence</td>\n",
       "    </tr>\n",
       "    <tr>\n",
       "      <th>13</th>\n",
       "      <td>61</td>\n",
       "      <td>masculin</td>\n",
       "      <td>A</td>\n",
       "      <td>134</td>\n",
       "      <td>234</td>\n",
       "      <td>A</td>\n",
       "      <td>A</td>\n",
       "      <td>145</td>\n",
       "      <td>non</td>\n",
       "      <td>26</td>\n",
       "      <td>2</td>\n",
       "      <td>C</td>\n",
       "      <td>presence</td>\n",
       "    </tr>\n",
       "    <tr>\n",
       "      <th>18</th>\n",
       "      <td>64</td>\n",
       "      <td>masculin</td>\n",
       "      <td>A</td>\n",
       "      <td>110</td>\n",
       "      <td>211</td>\n",
       "      <td>A</td>\n",
       "      <td>C</td>\n",
       "      <td>144</td>\n",
       "      <td>oui</td>\n",
       "      <td>18</td>\n",
       "      <td>2</td>\n",
       "      <td>A</td>\n",
       "      <td>absence</td>\n",
       "    </tr>\n",
       "    <tr>\n",
       "      <th>19</th>\n",
       "      <td>40</td>\n",
       "      <td>masculin</td>\n",
       "      <td>A</td>\n",
       "      <td>140</td>\n",
       "      <td>199</td>\n",
       "      <td>A</td>\n",
       "      <td>A</td>\n",
       "      <td>178</td>\n",
       "      <td>oui</td>\n",
       "      <td>14</td>\n",
       "      <td>1</td>\n",
       "      <td>A</td>\n",
       "      <td>absence</td>\n",
       "    </tr>\n",
       "    <tr>\n",
       "      <th>...</th>\n",
       "      <td>...</td>\n",
       "      <td>...</td>\n",
       "      <td>...</td>\n",
       "      <td>...</td>\n",
       "      <td>...</td>\n",
       "      <td>...</td>\n",
       "      <td>...</td>\n",
       "      <td>...</td>\n",
       "      <td>...</td>\n",
       "      <td>...</td>\n",
       "      <td>...</td>\n",
       "      <td>...</td>\n",
       "      <td>...</td>\n",
       "    </tr>\n",
       "    <tr>\n",
       "      <th>262</th>\n",
       "      <td>58</td>\n",
       "      <td>masculin</td>\n",
       "      <td>B</td>\n",
       "      <td>120</td>\n",
       "      <td>284</td>\n",
       "      <td>A</td>\n",
       "      <td>C</td>\n",
       "      <td>160</td>\n",
       "      <td>non</td>\n",
       "      <td>18</td>\n",
       "      <td>2</td>\n",
       "      <td>A</td>\n",
       "      <td>presence</td>\n",
       "    </tr>\n",
       "    <tr>\n",
       "      <th>263</th>\n",
       "      <td>49</td>\n",
       "      <td>masculin</td>\n",
       "      <td>B</td>\n",
       "      <td>130</td>\n",
       "      <td>266</td>\n",
       "      <td>A</td>\n",
       "      <td>A</td>\n",
       "      <td>171</td>\n",
       "      <td>non</td>\n",
       "      <td>6</td>\n",
       "      <td>1</td>\n",
       "      <td>A</td>\n",
       "      <td>absence</td>\n",
       "    </tr>\n",
       "    <tr>\n",
       "      <th>264</th>\n",
       "      <td>48</td>\n",
       "      <td>masculin</td>\n",
       "      <td>B</td>\n",
       "      <td>110</td>\n",
       "      <td>229</td>\n",
       "      <td>A</td>\n",
       "      <td>A</td>\n",
       "      <td>168</td>\n",
       "      <td>non</td>\n",
       "      <td>10</td>\n",
       "      <td>3</td>\n",
       "      <td>A</td>\n",
       "      <td>presence</td>\n",
       "    </tr>\n",
       "    <tr>\n",
       "      <th>266</th>\n",
       "      <td>44</td>\n",
       "      <td>masculin</td>\n",
       "      <td>B</td>\n",
       "      <td>120</td>\n",
       "      <td>263</td>\n",
       "      <td>A</td>\n",
       "      <td>A</td>\n",
       "      <td>173</td>\n",
       "      <td>non</td>\n",
       "      <td>0</td>\n",
       "      <td>1</td>\n",
       "      <td>A</td>\n",
       "      <td>absence</td>\n",
       "    </tr>\n",
       "    <tr>\n",
       "      <th>267</th>\n",
       "      <td>56</td>\n",
       "      <td>feminin</td>\n",
       "      <td>B</td>\n",
       "      <td>140</td>\n",
       "      <td>294</td>\n",
       "      <td>A</td>\n",
       "      <td>C</td>\n",
       "      <td>153</td>\n",
       "      <td>non</td>\n",
       "      <td>13</td>\n",
       "      <td>2</td>\n",
       "      <td>A</td>\n",
       "      <td>absence</td>\n",
       "    </tr>\n",
       "  </tbody>\n",
       "</table>\n",
       "<p>62 rows × 13 columns</p>\n",
       "</div>"
      ],
      "text/plain": [
       "     age      sexe type_douleur  pression  cholester sucre electro  taux_max  \\\n",
       "2     57  masculin            B       124        261     A       A       141   \n",
       "4     74   feminin            B       120        269     A       C       121   \n",
       "13    61  masculin            A       134        234     A       A       145   \n",
       "18    64  masculin            A       110        211     A       C       144   \n",
       "19    40  masculin            A       140        199     A       A       178   \n",
       "..   ...       ...          ...       ...        ...   ...     ...       ...   \n",
       "262   58  masculin            B       120        284     A       C       160   \n",
       "263   49  masculin            B       130        266     A       A       171   \n",
       "264   48  masculin            B       110        229     A       A       168   \n",
       "266   44  masculin            B       120        263     A       A       173   \n",
       "267   56   feminin            B       140        294     A       C       153   \n",
       "\n",
       "    angine  depression  pic vaisseau     coeur  \n",
       "2      non           3    1        A  presence  \n",
       "4      oui           2    1        B   absence  \n",
       "13     non          26    2        C  presence  \n",
       "18     oui          18    2        A   absence  \n",
       "19     oui          14    1        A   absence  \n",
       "..     ...         ...  ...      ...       ...  \n",
       "262    non          18    2        A  presence  \n",
       "263    non           6    1        A   absence  \n",
       "264    non          10    3        A  presence  \n",
       "266    non           0    1        A   absence  \n",
       "267    non          13    2        A   absence  \n",
       "\n",
       "[62 rows x 13 columns]"
      ]
     },
     "execution_count": 33,
     "metadata": {},
     "output_type": "execute_result"
    }
   ],
   "source": [
    "# pour un ensemble de valeurs de la la même variable, on utilise isin()\n",
    "df.loc[df['type_douleur'].isin(['A','B']), :]"
   ]
  },
  {
   "cell_type": "code",
   "execution_count": 34,
   "metadata": {},
   "outputs": [
    {
     "data": {
      "text/html": [
       "<div>\n",
       "<table border=\"1\" class=\"dataframe\">\n",
       "  <thead>\n",
       "    <tr style=\"text-align: right;\">\n",
       "      <th></th>\n",
       "      <th>age</th>\n",
       "      <th>sexe</th>\n",
       "      <th>type_douleur</th>\n",
       "      <th>pression</th>\n",
       "      <th>cholesterol</th>\n",
       "      <th>angine</th>\n",
       "      <th>coeur</th>\n",
       "    </tr>\n",
       "  </thead>\n",
       "  <tbody>\n",
       "    <tr>\n",
       "      <th>2</th>\n",
       "      <td>57</td>\n",
       "      <td>masculin</td>\n",
       "      <td>B</td>\n",
       "      <td>124</td>\n",
       "      <td>NaN</td>\n",
       "      <td>non</td>\n",
       "      <td>presence</td>\n",
       "    </tr>\n",
       "    <tr>\n",
       "      <th>4</th>\n",
       "      <td>74</td>\n",
       "      <td>feminin</td>\n",
       "      <td>B</td>\n",
       "      <td>120</td>\n",
       "      <td>NaN</td>\n",
       "      <td>oui</td>\n",
       "      <td>absence</td>\n",
       "    </tr>\n",
       "    <tr>\n",
       "      <th>13</th>\n",
       "      <td>61</td>\n",
       "      <td>masculin</td>\n",
       "      <td>A</td>\n",
       "      <td>134</td>\n",
       "      <td>NaN</td>\n",
       "      <td>non</td>\n",
       "      <td>presence</td>\n",
       "    </tr>\n",
       "    <tr>\n",
       "      <th>18</th>\n",
       "      <td>64</td>\n",
       "      <td>masculin</td>\n",
       "      <td>A</td>\n",
       "      <td>110</td>\n",
       "      <td>NaN</td>\n",
       "      <td>oui</td>\n",
       "      <td>absence</td>\n",
       "    </tr>\n",
       "    <tr>\n",
       "      <th>19</th>\n",
       "      <td>40</td>\n",
       "      <td>masculin</td>\n",
       "      <td>A</td>\n",
       "      <td>140</td>\n",
       "      <td>NaN</td>\n",
       "      <td>oui</td>\n",
       "      <td>absence</td>\n",
       "    </tr>\n",
       "    <tr>\n",
       "      <th>...</th>\n",
       "      <td>...</td>\n",
       "      <td>...</td>\n",
       "      <td>...</td>\n",
       "      <td>...</td>\n",
       "      <td>...</td>\n",
       "      <td>...</td>\n",
       "      <td>...</td>\n",
       "    </tr>\n",
       "    <tr>\n",
       "      <th>262</th>\n",
       "      <td>58</td>\n",
       "      <td>masculin</td>\n",
       "      <td>B</td>\n",
       "      <td>120</td>\n",
       "      <td>NaN</td>\n",
       "      <td>non</td>\n",
       "      <td>presence</td>\n",
       "    </tr>\n",
       "    <tr>\n",
       "      <th>263</th>\n",
       "      <td>49</td>\n",
       "      <td>masculin</td>\n",
       "      <td>B</td>\n",
       "      <td>130</td>\n",
       "      <td>NaN</td>\n",
       "      <td>non</td>\n",
       "      <td>absence</td>\n",
       "    </tr>\n",
       "    <tr>\n",
       "      <th>264</th>\n",
       "      <td>48</td>\n",
       "      <td>masculin</td>\n",
       "      <td>B</td>\n",
       "      <td>110</td>\n",
       "      <td>NaN</td>\n",
       "      <td>non</td>\n",
       "      <td>presence</td>\n",
       "    </tr>\n",
       "    <tr>\n",
       "      <th>266</th>\n",
       "      <td>44</td>\n",
       "      <td>masculin</td>\n",
       "      <td>B</td>\n",
       "      <td>120</td>\n",
       "      <td>NaN</td>\n",
       "      <td>non</td>\n",
       "      <td>absence</td>\n",
       "    </tr>\n",
       "    <tr>\n",
       "      <th>267</th>\n",
       "      <td>56</td>\n",
       "      <td>feminin</td>\n",
       "      <td>B</td>\n",
       "      <td>140</td>\n",
       "      <td>NaN</td>\n",
       "      <td>non</td>\n",
       "      <td>absence</td>\n",
       "    </tr>\n",
       "  </tbody>\n",
       "</table>\n",
       "<p>62 rows × 7 columns</p>\n",
       "</div>"
      ],
      "text/plain": [
       "     age      sexe type_douleur  pression  cholesterol angine     coeur\n",
       "2     57  masculin            B       124          NaN    non  presence\n",
       "4     74   feminin            B       120          NaN    oui   absence\n",
       "13    61  masculin            A       134          NaN    non  presence\n",
       "18    64  masculin            A       110          NaN    oui   absence\n",
       "19    40  masculin            A       140          NaN    oui   absence\n",
       "..   ...       ...          ...       ...          ...    ...       ...\n",
       "262   58  masculin            B       120          NaN    non  presence\n",
       "263   49  masculin            B       130          NaN    non   absence\n",
       "264   48  masculin            B       110          NaN    non  presence\n",
       "266   44  masculin            B       120          NaN    non   absence\n",
       "267   56   feminin            B       140          NaN    non   absence\n",
       "\n",
       "[62 rows x 7 columns]"
      ]
     },
     "execution_count": 34,
     "metadata": {},
     "output_type": "execute_result"
    }
   ],
   "source": [
    "# on peut afficher qu'une partie des colonnes\n",
    "colonnes = ['age','sexe','type_douleur','pression','cholesterol','angine','coeur']\n",
    "df.loc[df['type_douleur'].isin(['A','B']), colonnes]"
   ]
  },
  {
   "cell_type": "markdown",
   "metadata": {},
   "source": [
    "Des opérateurs logiques permettent de combiner des conditions. On utilise respectivement : & pour ET, | pour OU et ~ pour la négation."
   ]
  },
  {
   "cell_type": "code",
   "execution_count": 35,
   "metadata": {},
   "outputs": [
    {
     "data": {
      "text/html": [
       "<div>\n",
       "<table border=\"1\" class=\"dataframe\">\n",
       "  <thead>\n",
       "    <tr style=\"text-align: right;\">\n",
       "      <th></th>\n",
       "      <th>age</th>\n",
       "      <th>sexe</th>\n",
       "      <th>type_douleur</th>\n",
       "      <th>pression</th>\n",
       "      <th>cholesterol</th>\n",
       "      <th>angine</th>\n",
       "      <th>coeur</th>\n",
       "    </tr>\n",
       "  </thead>\n",
       "  <tbody>\n",
       "    <tr>\n",
       "      <th>18</th>\n",
       "      <td>64</td>\n",
       "      <td>masculin</td>\n",
       "      <td>A</td>\n",
       "      <td>110</td>\n",
       "      <td>NaN</td>\n",
       "      <td>oui</td>\n",
       "      <td>absence</td>\n",
       "    </tr>\n",
       "    <tr>\n",
       "      <th>19</th>\n",
       "      <td>40</td>\n",
       "      <td>masculin</td>\n",
       "      <td>A</td>\n",
       "      <td>140</td>\n",
       "      <td>NaN</td>\n",
       "      <td>oui</td>\n",
       "      <td>absence</td>\n",
       "    </tr>\n",
       "    <tr>\n",
       "      <th>143</th>\n",
       "      <td>51</td>\n",
       "      <td>masculin</td>\n",
       "      <td>A</td>\n",
       "      <td>125</td>\n",
       "      <td>NaN</td>\n",
       "      <td>oui</td>\n",
       "      <td>absence</td>\n",
       "    </tr>\n",
       "    <tr>\n",
       "      <th>160</th>\n",
       "      <td>38</td>\n",
       "      <td>masculin</td>\n",
       "      <td>A</td>\n",
       "      <td>120</td>\n",
       "      <td>NaN</td>\n",
       "      <td>oui</td>\n",
       "      <td>presence</td>\n",
       "    </tr>\n",
       "  </tbody>\n",
       "</table>\n",
       "</div>"
      ],
      "text/plain": [
       "     age      sexe type_douleur  pression  cholesterol angine     coeur\n",
       "18    64  masculin            A       110          NaN    oui   absence\n",
       "19    40  masculin            A       140          NaN    oui   absence\n",
       "143   51  masculin            A       125          NaN    oui   absence\n",
       "160   38  masculin            A       120          NaN    oui  presence"
      ]
     },
     "execution_count": 35,
     "metadata": {},
     "output_type": "execute_result"
    }
   ],
   "source": [
    "# liste des individus présentant une douleur de type A et angine == oui\n",
    "df.loc[(df['type_douleur']==\"A\") & (df['angine']==\"oui\"),colonnes]"
   ]
  },
  {
   "cell_type": "code",
   "execution_count": 36,
   "metadata": {},
   "outputs": [
    {
     "data": {
      "text/html": [
       "<div>\n",
       "<table border=\"1\" class=\"dataframe\">\n",
       "  <thead>\n",
       "    <tr style=\"text-align: right;\">\n",
       "      <th></th>\n",
       "      <th>age</th>\n",
       "      <th>sexe</th>\n",
       "      <th>type_douleur</th>\n",
       "      <th>pression</th>\n",
       "      <th>cholesterol</th>\n",
       "      <th>angine</th>\n",
       "      <th>coeur</th>\n",
       "    </tr>\n",
       "  </thead>\n",
       "  <tbody>\n",
       "    <tr>\n",
       "      <th>40</th>\n",
       "      <td>40</td>\n",
       "      <td>masculin</td>\n",
       "      <td>D</td>\n",
       "      <td>152</td>\n",
       "      <td>NaN</td>\n",
       "      <td>non</td>\n",
       "      <td>presence</td>\n",
       "    </tr>\n",
       "    <tr>\n",
       "      <th>47</th>\n",
       "      <td>44</td>\n",
       "      <td>masculin</td>\n",
       "      <td>D</td>\n",
       "      <td>110</td>\n",
       "      <td>NaN</td>\n",
       "      <td>non</td>\n",
       "      <td>presence</td>\n",
       "    </tr>\n",
       "    <tr>\n",
       "      <th>50</th>\n",
       "      <td>42</td>\n",
       "      <td>masculin</td>\n",
       "      <td>D</td>\n",
       "      <td>136</td>\n",
       "      <td>NaN</td>\n",
       "      <td>oui</td>\n",
       "      <td>presence</td>\n",
       "    </tr>\n",
       "    <tr>\n",
       "      <th>81</th>\n",
       "      <td>35</td>\n",
       "      <td>masculin</td>\n",
       "      <td>D</td>\n",
       "      <td>120</td>\n",
       "      <td>NaN</td>\n",
       "      <td>oui</td>\n",
       "      <td>presence</td>\n",
       "    </tr>\n",
       "    <tr>\n",
       "      <th>147</th>\n",
       "      <td>40</td>\n",
       "      <td>masculin</td>\n",
       "      <td>D</td>\n",
       "      <td>110</td>\n",
       "      <td>NaN</td>\n",
       "      <td>oui</td>\n",
       "      <td>presence</td>\n",
       "    </tr>\n",
       "    <tr>\n",
       "      <th>...</th>\n",
       "      <td>...</td>\n",
       "      <td>...</td>\n",
       "      <td>...</td>\n",
       "      <td>...</td>\n",
       "      <td>...</td>\n",
       "      <td>...</td>\n",
       "      <td>...</td>\n",
       "    </tr>\n",
       "    <tr>\n",
       "      <th>182</th>\n",
       "      <td>41</td>\n",
       "      <td>masculin</td>\n",
       "      <td>D</td>\n",
       "      <td>110</td>\n",
       "      <td>NaN</td>\n",
       "      <td>non</td>\n",
       "      <td>presence</td>\n",
       "    </tr>\n",
       "    <tr>\n",
       "      <th>193</th>\n",
       "      <td>35</td>\n",
       "      <td>masculin</td>\n",
       "      <td>D</td>\n",
       "      <td>126</td>\n",
       "      <td>NaN</td>\n",
       "      <td>oui</td>\n",
       "      <td>presence</td>\n",
       "    </tr>\n",
       "    <tr>\n",
       "      <th>231</th>\n",
       "      <td>39</td>\n",
       "      <td>masculin</td>\n",
       "      <td>D</td>\n",
       "      <td>118</td>\n",
       "      <td>NaN</td>\n",
       "      <td>non</td>\n",
       "      <td>presence</td>\n",
       "    </tr>\n",
       "    <tr>\n",
       "      <th>237</th>\n",
       "      <td>43</td>\n",
       "      <td>masculin</td>\n",
       "      <td>D</td>\n",
       "      <td>120</td>\n",
       "      <td>NaN</td>\n",
       "      <td>oui</td>\n",
       "      <td>presence</td>\n",
       "    </tr>\n",
       "    <tr>\n",
       "      <th>252</th>\n",
       "      <td>44</td>\n",
       "      <td>masculin</td>\n",
       "      <td>D</td>\n",
       "      <td>112</td>\n",
       "      <td>NaN</td>\n",
       "      <td>non</td>\n",
       "      <td>presence</td>\n",
       "    </tr>\n",
       "  </tbody>\n",
       "</table>\n",
       "<p>11 rows × 7 columns</p>\n",
       "</div>"
      ],
      "text/plain": [
       "     age      sexe type_douleur  pression  cholesterol angine     coeur\n",
       "40    40  masculin            D       152          NaN    non  presence\n",
       "47    44  masculin            D       110          NaN    non  presence\n",
       "50    42  masculin            D       136          NaN    oui  presence\n",
       "81    35  masculin            D       120          NaN    oui  presence\n",
       "147   40  masculin            D       110          NaN    oui  presence\n",
       "..   ...       ...          ...       ...          ...    ...       ...\n",
       "182   41  masculin            D       110          NaN    non  presence\n",
       "193   35  masculin            D       126          NaN    oui  presence\n",
       "231   39  masculin            D       118          NaN    non  presence\n",
       "237   43  masculin            D       120          NaN    oui  presence\n",
       "252   44  masculin            D       112          NaN    non  presence\n",
       "\n",
       "[11 rows x 7 columns]"
      ]
     },
     "execution_count": 36,
     "metadata": {},
     "output_type": "execute_result"
    }
   ],
   "source": [
    "# liste des individus de moins de 45 ans, de sexe masculin et présentant une maladie cardiaque\n",
    "df.loc[(df['age']<45) & (df['sexe']==\"masculin\") & (df['coeur']==\"presence\"),colonnes]"
   ]
  },
  {
   "cell_type": "markdown",
   "metadata": {},
   "source": [
    "## 5. Calculs récapitulatifs - Croisement des variables"
   ]
  },
  {
   "cell_type": "markdown",
   "metadata": {},
   "source": [
    "On peut procéder à des croisements et opérer des calculs récapitulatifs, qui vont du comptage simple aux calculs statistiques faisant intervenir plusieurs varibales."
   ]
  },
  {
   "cell_type": "code",
   "execution_count": 37,
   "metadata": {},
   "outputs": [
    {
     "data": {
      "text/html": [
       "<div>\n",
       "<table border=\"1\" class=\"dataframe\">\n",
       "  <thead>\n",
       "    <tr style=\"text-align: right;\">\n",
       "      <th>coeur</th>\n",
       "      <th>absence</th>\n",
       "      <th>presence</th>\n",
       "    </tr>\n",
       "    <tr>\n",
       "      <th>sexe</th>\n",
       "      <th></th>\n",
       "      <th></th>\n",
       "    </tr>\n",
       "  </thead>\n",
       "  <tbody>\n",
       "    <tr>\n",
       "      <th>feminin</th>\n",
       "      <td>67</td>\n",
       "      <td>20</td>\n",
       "    </tr>\n",
       "    <tr>\n",
       "      <th>masculin</th>\n",
       "      <td>83</td>\n",
       "      <td>100</td>\n",
       "    </tr>\n",
       "  </tbody>\n",
       "</table>\n",
       "</div>"
      ],
      "text/plain": [
       "coeur     absence  presence\n",
       "sexe                       \n",
       "feminin        67        20\n",
       "masculin       83       100"
      ]
     },
     "execution_count": 37,
     "metadata": {},
     "output_type": "execute_result"
    }
   ],
   "source": [
    "# fréquence selon sexe et coeur\n",
    "pandas.crosstab(df['sexe'],df['coeur'])"
   ]
  },
  {
   "cell_type": "code",
   "execution_count": 38,
   "metadata": {},
   "outputs": [
    {
     "data": {
      "text/html": [
       "<div>\n",
       "<table border=\"1\" class=\"dataframe\">\n",
       "  <thead>\n",
       "    <tr style=\"text-align: right;\">\n",
       "      <th>coeur</th>\n",
       "      <th>absence</th>\n",
       "      <th>presence</th>\n",
       "    </tr>\n",
       "    <tr>\n",
       "      <th>sexe</th>\n",
       "      <th></th>\n",
       "      <th></th>\n",
       "    </tr>\n",
       "  </thead>\n",
       "  <tbody>\n",
       "    <tr>\n",
       "      <th>feminin</th>\n",
       "      <td>0.770115</td>\n",
       "      <td>0.229885</td>\n",
       "    </tr>\n",
       "    <tr>\n",
       "      <th>masculin</th>\n",
       "      <td>0.453552</td>\n",
       "      <td>0.546448</td>\n",
       "    </tr>\n",
       "  </tbody>\n",
       "</table>\n",
       "</div>"
      ],
      "text/plain": [
       "coeur      absence  presence\n",
       "sexe                        \n",
       "feminin   0.770115  0.229885\n",
       "masculin  0.453552  0.546448"
      ]
     },
     "execution_count": 38,
     "metadata": {},
     "output_type": "execute_result"
    }
   ],
   "source": [
    "# on peut demander un post-traitement, par exemple, un pourcentage en ligne\n",
    "pandas.crosstab(df['sexe'],df['coeur'],normalize='index')"
   ]
  },
  {
   "cell_type": "code",
   "execution_count": 39,
   "metadata": {},
   "outputs": [
    {
     "data": {
      "text/html": [
       "<div>\n",
       "<table border=\"1\" class=\"dataframe\">\n",
       "  <thead>\n",
       "    <tr style=\"text-align: right;\">\n",
       "      <th>coeur</th>\n",
       "      <th>absence</th>\n",
       "      <th>presence</th>\n",
       "    </tr>\n",
       "    <tr>\n",
       "      <th>sexe</th>\n",
       "      <th></th>\n",
       "      <th></th>\n",
       "    </tr>\n",
       "  </thead>\n",
       "  <tbody>\n",
       "    <tr>\n",
       "      <th>feminin</th>\n",
       "      <td>54.582090</td>\n",
       "      <td>59.35</td>\n",
       "    </tr>\n",
       "    <tr>\n",
       "      <th>masculin</th>\n",
       "      <td>51.192771</td>\n",
       "      <td>56.04</td>\n",
       "    </tr>\n",
       "  </tbody>\n",
       "</table>\n",
       "</div>"
      ],
      "text/plain": [
       "coeur       absence  presence\n",
       "sexe                         \n",
       "feminin   54.582090     59.35\n",
       "masculin  51.192771     56.04"
      ]
     },
     "execution_count": 39,
     "metadata": {},
     "output_type": "execute_result"
    }
   ],
   "source": [
    "# On peut insérer un champ calculé, par exemple, la moyenne d'âge selon sexe et coeur\n",
    "# on utilise la fonction mean() de la classe Series de la librairie Pandas\n",
    "pandas.crosstab(df['sexe'],df['coeur'], values=df['age'],aggfunc=pandas.Series.mean)"
   ]
  },
  {
   "cell_type": "code",
   "execution_count": 40,
   "metadata": {},
   "outputs": [
    {
     "data": {
      "text/html": [
       "<div>\n",
       "<table border=\"1\" class=\"dataframe\">\n",
       "  <thead>\n",
       "    <tr>\n",
       "      <th></th>\n",
       "      <th colspan=\"2\" halign=\"left\">age</th>\n",
       "    </tr>\n",
       "    <tr>\n",
       "      <th>coeur</th>\n",
       "      <th>absence</th>\n",
       "      <th>presence</th>\n",
       "    </tr>\n",
       "    <tr>\n",
       "      <th>sexe</th>\n",
       "      <th></th>\n",
       "      <th></th>\n",
       "    </tr>\n",
       "  </thead>\n",
       "  <tbody>\n",
       "    <tr>\n",
       "      <th>feminin</th>\n",
       "      <td>54.582090</td>\n",
       "      <td>59.35</td>\n",
       "    </tr>\n",
       "    <tr>\n",
       "      <th>masculin</th>\n",
       "      <td>51.192771</td>\n",
       "      <td>56.04</td>\n",
       "    </tr>\n",
       "  </tbody>\n",
       "</table>\n",
       "</div>"
      ],
      "text/plain": [
       "                age         \n",
       "coeur       absence presence\n",
       "sexe                        \n",
       "feminin   54.582090    59.35\n",
       "masculin  51.192771    56.04"
      ]
     },
     "execution_count": 40,
     "metadata": {},
     "output_type": "execute_result"
    }
   ],
   "source": [
    "# On peut aussi utiliser la commande pivot_table()\n",
    "df.pivot_table(index=['sexe'],columns=['coeur'],values=['age'],aggfunc=pandas.Series.mean)"
   ]
  },
  {
   "cell_type": "code",
   "execution_count": 41,
   "metadata": {},
   "outputs": [
    {
     "data": {
      "text/html": [
       "<div>\n",
       "<table border=\"1\" class=\"dataframe\">\n",
       "  <thead>\n",
       "    <tr style=\"text-align: right;\">\n",
       "      <th></th>\n",
       "      <th>coeur</th>\n",
       "      <th>absence</th>\n",
       "      <th>presence</th>\n",
       "    </tr>\n",
       "    <tr>\n",
       "      <th>sexe</th>\n",
       "      <th>sucre</th>\n",
       "      <th></th>\n",
       "      <th></th>\n",
       "    </tr>\n",
       "  </thead>\n",
       "  <tbody>\n",
       "    <tr>\n",
       "      <th rowspan=\"2\" valign=\"top\">feminin</th>\n",
       "      <th>A</th>\n",
       "      <td>61</td>\n",
       "      <td>15</td>\n",
       "    </tr>\n",
       "    <tr>\n",
       "      <th>B</th>\n",
       "      <td>6</td>\n",
       "      <td>5</td>\n",
       "    </tr>\n",
       "    <tr>\n",
       "      <th rowspan=\"2\" valign=\"top\">masculin</th>\n",
       "      <th>A</th>\n",
       "      <td>66</td>\n",
       "      <td>88</td>\n",
       "    </tr>\n",
       "    <tr>\n",
       "      <th>B</th>\n",
       "      <td>17</td>\n",
       "      <td>12</td>\n",
       "    </tr>\n",
       "  </tbody>\n",
       "</table>\n",
       "</div>"
      ],
      "text/plain": [
       "coeur           absence  presence\n",
       "sexe     sucre                   \n",
       "feminin  A           61        15\n",
       "         B            6         5\n",
       "masculin A           66        88\n",
       "         B           17        12"
      ]
     },
     "execution_count": 41,
     "metadata": {},
     "output_type": "execute_result"
    }
   ],
   "source": [
    "# multiplier les critères est possible\n",
    "pandas.crosstab([df['sexe'],df['sucre']],df['coeur'])"
   ]
  },
  {
   "cell_type": "code",
   "execution_count": 42,
   "metadata": {},
   "outputs": [
    {
     "data": {
      "text/html": [
       "<div>\n",
       "<table border=\"1\" class=\"dataframe\">\n",
       "  <thead>\n",
       "    <tr style=\"text-align: right;\">\n",
       "      <th></th>\n",
       "      <th>coeur</th>\n",
       "      <th>absence</th>\n",
       "      <th>presence</th>\n",
       "    </tr>\n",
       "    <tr>\n",
       "      <th>sexe</th>\n",
       "      <th>sucre</th>\n",
       "      <th></th>\n",
       "      <th></th>\n",
       "    </tr>\n",
       "  </thead>\n",
       "  <tbody>\n",
       "    <tr>\n",
       "      <th rowspan=\"2\" valign=\"top\">feminin</th>\n",
       "      <th>A</th>\n",
       "      <td>0.802632</td>\n",
       "      <td>0.197368</td>\n",
       "    </tr>\n",
       "    <tr>\n",
       "      <th>B</th>\n",
       "      <td>0.545455</td>\n",
       "      <td>0.454545</td>\n",
       "    </tr>\n",
       "    <tr>\n",
       "      <th rowspan=\"2\" valign=\"top\">masculin</th>\n",
       "      <th>A</th>\n",
       "      <td>0.428571</td>\n",
       "      <td>0.571429</td>\n",
       "    </tr>\n",
       "    <tr>\n",
       "      <th>B</th>\n",
       "      <td>0.586207</td>\n",
       "      <td>0.413793</td>\n",
       "    </tr>\n",
       "  </tbody>\n",
       "</table>\n",
       "</div>"
      ],
      "text/plain": [
       "coeur            absence  presence\n",
       "sexe     sucre                    \n",
       "feminin  A      0.802632  0.197368\n",
       "         B      0.545455  0.454545\n",
       "masculin A      0.428571  0.571429\n",
       "         B      0.586207  0.413793"
      ]
     },
     "execution_count": 42,
     "metadata": {},
     "output_type": "execute_result"
    }
   ],
   "source": [
    "pandas.crosstab([df['sexe'],df['sucre']],df['coeur'],normalize='index')"
   ]
  },
  {
   "cell_type": "markdown",
   "metadata": {},
   "source": [
    "L'utilisation de groupby() permet d'accéder aux sous-DataFrame associés à chaque item de la variable de regroupement. Il est dès lors possible d'appliquer explicitement d'autres traitements sur ces sous-ensembles de données."
   ]
  },
  {
   "cell_type": "code",
   "execution_count": 43,
   "metadata": {},
   "outputs": [
    {
     "name": "stdout",
     "output_type": "stream",
     "text": [
      "(183, 13)\n"
     ]
    }
   ],
   "source": [
    "# regroupement des données selon le sexe\n",
    "g=df.groupby('sexe')\n",
    "\n",
    "# calculer la dimension du sous-DataFrame associé aux hommes\n",
    "print(g.get_group('masculin').shape)"
   ]
  },
  {
   "cell_type": "code",
   "execution_count": 44,
   "metadata": {},
   "outputs": [
    {
     "data": {
      "text/html": [
       "<div>\n",
       "<table border=\"1\" class=\"dataframe\">\n",
       "  <thead>\n",
       "    <tr style=\"text-align: right;\">\n",
       "      <th></th>\n",
       "      <th>age</th>\n",
       "      <th>pression</th>\n",
       "      <th>cholester</th>\n",
       "      <th>taux_max</th>\n",
       "      <th>depression</th>\n",
       "      <th>pic</th>\n",
       "    </tr>\n",
       "    <tr>\n",
       "      <th>sexe</th>\n",
       "      <th></th>\n",
       "      <th></th>\n",
       "      <th></th>\n",
       "      <th></th>\n",
       "      <th></th>\n",
       "      <th></th>\n",
       "    </tr>\n",
       "  </thead>\n",
       "  <tbody>\n",
       "    <tr>\n",
       "      <th>feminin</th>\n",
       "      <td>55.678161</td>\n",
       "      <td>132.965517</td>\n",
       "      <td>264.747126</td>\n",
       "      <td>152.229885</td>\n",
       "      <td>8.885057</td>\n",
       "      <td>1.540230</td>\n",
       "    </tr>\n",
       "    <tr>\n",
       "      <th>masculin</th>\n",
       "      <td>53.841530</td>\n",
       "      <td>130.573770</td>\n",
       "      <td>242.486339</td>\n",
       "      <td>148.464481</td>\n",
       "      <td>11.267760</td>\n",
       "      <td>1.606557</td>\n",
       "    </tr>\n",
       "  </tbody>\n",
       "</table>\n",
       "</div>"
      ],
      "text/plain": [
       "                age    pression   cholester    taux_max  depression       pic\n",
       "sexe                                                                         \n",
       "feminin   55.678161  132.965517  264.747126  152.229885    8.885057  1.540230\n",
       "masculin  53.841530  130.573770  242.486339  148.464481   11.267760  1.606557"
      ]
     },
     "execution_count": 44,
     "metadata": {},
     "output_type": "execute_result"
    }
   ],
   "source": [
    "# calculer la moyenne des variables numériques\n",
    "g.mean()"
   ]
  },
  {
   "cell_type": "code",
   "execution_count": 45,
   "metadata": {},
   "outputs": [
    {
     "name": "stdout",
     "output_type": "stream",
     "text": [
      "53.84153005464481\n"
     ]
    }
   ],
   "source": [
    "# calculer la moyenne de l'âge chez les hommes\n",
    "print(g.get_group('masculin')['age'].mean())"
   ]
  },
  {
   "cell_type": "markdown",
   "metadata": {},
   "source": [
    "on peut appliquer différentes fonctions\n",
    "$$mean:=m=\\frac{1}{n}\\sum_{i=1}^nx_i,\\;variance:=var=\\frac{1}{n-1}\\sum_{i=1}^n\\left(x_i-m\\right)^2,\\;ecart\\_type:=std=\\sqrt{var}$$"
   ]
  },
  {
   "cell_type": "code",
   "execution_count": 46,
   "metadata": {},
   "outputs": [
    {
     "data": {
      "text/html": [
       "<div>\n",
       "<table border=\"1\" class=\"dataframe\">\n",
       "  <thead>\n",
       "    <tr>\n",
       "      <th></th>\n",
       "      <th colspan=\"2\" halign=\"left\">age</th>\n",
       "      <th colspan=\"2\" halign=\"left\">depression</th>\n",
       "    </tr>\n",
       "    <tr>\n",
       "      <th></th>\n",
       "      <th>mean</th>\n",
       "      <th>std</th>\n",
       "      <th>mean</th>\n",
       "      <th>std</th>\n",
       "    </tr>\n",
       "    <tr>\n",
       "      <th>sexe</th>\n",
       "      <th></th>\n",
       "      <th></th>\n",
       "      <th></th>\n",
       "      <th></th>\n",
       "    </tr>\n",
       "  </thead>\n",
       "  <tbody>\n",
       "    <tr>\n",
       "      <th>feminin</th>\n",
       "      <td>55.678161</td>\n",
       "      <td>9.626144</td>\n",
       "      <td>8.885057</td>\n",
       "      <td>11.332630</td>\n",
       "    </tr>\n",
       "    <tr>\n",
       "      <th>masculin</th>\n",
       "      <td>53.841530</td>\n",
       "      <td>8.818189</td>\n",
       "      <td>11.267760</td>\n",
       "      <td>11.459408</td>\n",
       "    </tr>\n",
       "  </tbody>\n",
       "</table>\n",
       "</div>"
      ],
      "text/plain": [
       "                age           depression           \n",
       "               mean       std       mean        std\n",
       "sexe                                               \n",
       "feminin   55.678161  9.626144   8.885057  11.332630\n",
       "masculin  53.841530  8.818189  11.267760  11.459408"
      ]
     },
     "execution_count": 46,
     "metadata": {},
     "output_type": "execute_result"
    }
   ],
   "source": [
    "g['age','depression'].agg([pandas.Series.mean,pandas.Series.std])"
   ]
  },
  {
   "cell_type": "code",
   "execution_count": 47,
   "metadata": {},
   "outputs": [
    {
     "name": "stdout",
     "output_type": "stream",
     "text": [
      "feminin\n",
      "55.67816091954023\n",
      "masculin\n",
      "53.84153005464481\n"
     ]
    }
   ],
   "source": [
    "# on peut itérer sur les groupes\n",
    "for groupe in g:\n",
    "    # groupe est un tuple\n",
    "    print(groupe[0]) # étiquette du groupe\n",
    "    # accès à la variable 'age' du groupe concerné\n",
    "    print(pandas.Series.mean(groupe[1]['age']))"
   ]
  },
  {
   "cell_type": "markdown",
   "metadata": {},
   "source": [
    "## 6. Construction de variables calculées"
   ]
  },
  {
   "cell_type": "markdown",
   "metadata": {
    "collapsed": true
   },
   "source": [
    "Comme sous Numpy, les calculs sont vectorisés pour les vecteurs de type Series de Pandas. Ce qui évite de passer par des boucles fastidieuses pour manipuler les valeurs des vecteurs."
   ]
  },
  {
   "cell_type": "code",
   "execution_count": 48,
   "metadata": {},
   "outputs": [
    {
     "name": "stdout",
     "output_type": "stream",
     "text": [
      "0      463.085981\n",
      "1      672.750819\n",
      "2      570.070229\n",
      "3      436.682724\n",
      "4      520.791876\n",
      "          ...    \n",
      "265    640.101482\n",
      "266    654.664807\n",
      "267    615.878809\n",
      "268    598.371588\n",
      "269    454.106803\n",
      "dtype: float64\n"
     ]
    }
   ],
   "source": [
    "# création d'une variable tau_net (aucune signification médicale)\n",
    "# utilisation de la librairie numpy (log = logarithme népérien)\n",
    "import numpy\n",
    "taux_net = df['taux_max']*numpy.log(df['age'])\n",
    "print(taux_net)"
   ]
  },
  {
   "cell_type": "code",
   "execution_count": 49,
   "metadata": {},
   "outputs": [
    {
     "name": "stdout",
     "output_type": "stream",
     "text": [
      "(270, 14)\n"
     ]
    }
   ],
   "source": [
    "# concatination à la DataFrame\n",
    "newdf = pandas.concat([df,taux_net],axis=1)\n",
    "print(newdf.shape)"
   ]
  },
  {
   "cell_type": "markdown",
   "metadata": {},
   "source": [
    "On souhaite créer une indicatrice pour la variable sexe, 1 pour masculin, 0 pour féminin."
   ]
  },
  {
   "cell_type": "code",
   "execution_count": 50,
   "metadata": {},
   "outputs": [
    {
     "name": "stdout",
     "output_type": "stream",
     "text": [
      "(270,)\n"
     ]
    }
   ],
   "source": [
    "# création d'une série de zéro de même longueur que la DataFrame (nombre de lignes)\n",
    "code=pandas.Series(numpy.zeros(df.shape[0]))\n",
    "print(code.shape)"
   ]
  },
  {
   "cell_type": "code",
   "execution_count": 51,
   "metadata": {},
   "outputs": [
    {
     "name": "stdout",
     "output_type": "stream",
     "text": [
      "1.0    183\n",
      "0.0     87\n",
      "dtype: int64\n"
     ]
    }
   ],
   "source": [
    "# les \"sexe=masculin\" sont codés en 1\n",
    "code[df['sexe']==\"masculin\"]=1\n",
    "print(code.value_counts())"
   ]
  },
  {
   "cell_type": "markdown",
   "metadata": {},
   "source": [
    "## 7. Graphiques"
   ]
  },
  {
   "cell_type": "markdown",
   "metadata": {},
   "source": [
    "Passer par Matplotlib permet de réaliser des graphiques performants. Mais il faut connaître les procédures de la librairie. \n",
    "\n",
    "Pandas propose des commandes simples qui encapsulent l'appel à ces procédures."
   ]
  },
  {
   "cell_type": "code",
   "execution_count": 52,
   "metadata": {
    "collapsed": true
   },
   "outputs": [],
   "source": [
    "# voir les graphiques dans le notebook\n",
    "%matplotlib inline\n",
    "# importation de librairie\n",
    "import matplotlib.pyplot as plt"
   ]
  },
  {
   "cell_type": "code",
   "execution_count": 53,
   "metadata": {},
   "outputs": [
    {
     "data": {
      "text/plain": [
       "array([[<matplotlib.axes._subplots.AxesSubplot object at 0x7f72ca1b96d8>]], dtype=object)"
      ]
     },
     "execution_count": 53,
     "metadata": {},
     "output_type": "execute_result"
    },
    {
     "data": {
      "image/png": "[encoded data removed]",
      "text/plain": [
       "<matplotlib.figure.Figure at 0x7f72cc421860>"
      ]
     },
     "metadata": {},
     "output_type": "display_data"
    }
   ],
   "source": [
    "# histogramme de l'âge\n",
    "df.hist(column='age')"
   ]
  },
  {
   "cell_type": "code",
   "execution_count": 54,
   "metadata": {},
   "outputs": [
    {
     "data": {
      "text/plain": [
       "<matplotlib.axes._subplots.AxesSubplot at 0x7f72c6b5c5f8>"
      ]
     },
     "execution_count": 54,
     "metadata": {},
     "output_type": "execute_result"
    },
    {
     "data": {
      "image/png": "[encoded data removed]",
      "text/plain": [
       "<matplotlib.figure.Figure at 0x7f72c6b91c50>"
      ]
     },
     "metadata": {},
     "output_type": "display_data"
    }
   ],
   "source": [
    "# density plot\n",
    "df['age'].plot.kde()"
   ]
  },
  {
   "cell_type": "code",
   "execution_count": 55,
   "metadata": {},
   "outputs": [
    {
     "data": {
      "text/plain": [
       "array([<matplotlib.axes._subplots.AxesSubplot object at 0x7f72c0430b38>,\n",
       "       <matplotlib.axes._subplots.AxesSubplot object at 0x7f72c03e1080>], dtype=object)"
      ]
     },
     "execution_count": 55,
     "metadata": {},
     "output_type": "execute_result"
    },
    {
     "data": {
      "image/png": "[encoded data removed]",
      "text/plain": [
       "<matplotlib.figure.Figure at 0x7f72c044a198>"
      ]
     },
     "metadata": {},
     "output_type": "display_data"
    }
   ],
   "source": [
    "# histogramme de l'âge selon le sexe\n",
    "df.hist(column='age', by='sexe')"
   ]
  },
  {
   "cell_type": "code",
   "execution_count": 56,
   "metadata": {},
   "outputs": [
    {
     "data": {
      "text/plain": [
       "<matplotlib.axes._subplots.AxesSubplot at 0x7f72c6b913c8>"
      ]
     },
     "execution_count": 56,
     "metadata": {},
     "output_type": "execute_result"
    },
    {
     "data": {
      "image/png": "[encoded data removed]",
      "text/plain": [
       "<matplotlib.figure.Figure at 0x7f72c02da0f0>"
      ]
     },
     "metadata": {},
     "output_type": "display_data"
    }
   ],
   "source": [
    "# comparaison des distributions avec boxplot\n",
    "df.boxplot(column='age', by='sexe')"
   ]
  },
  {
   "cell_type": "markdown",
   "metadata": {},
   "source": [
    "* La valeur centrale du graphique est la médiane (il existe autant de valeur supérieures qu’inférieures à cette valeur dans l’échantillon).\n",
    "* Les bords du rectangle sont les quartiles (Pour le bord inférieur, un quart des observations ont des valeurs plus petites et trois quart ont des valeurs plus grandes, le bord supérieur suit le même raisonnement).\n",
    "* Les extrémités des moustaches sont calculées en utilisant 1.5 fois l’espace interquartile (la distance entre le 1er et le 3ème quartile)."
   ]
  },
  {
   "cell_type": "code",
   "execution_count": 57,
   "metadata": {},
   "outputs": [
    {
     "data": {
      "text/plain": [
       "<matplotlib.axes._subplots.AxesSubplot at 0x7f72c02737f0>"
      ]
     },
     "execution_count": 57,
     "metadata": {},
     "output_type": "execute_result"
    },
    {
     "data": {
      "image/png": "[encoded data removed]",
      "text/plain": [
       "<matplotlib.figure.Figure at 0x7f72c6b129b0>"
      ]
     },
     "metadata": {},
     "output_type": "display_data"
    }
   ],
   "source": [
    "# scatterplot : âge vs taux_max\n",
    "df.plot.scatter(x='age',y='taux_max')"
   ]
  },
  {
   "cell_type": "code",
   "execution_count": 58,
   "metadata": {},
   "outputs": [
    {
     "data": {
      "text/plain": [
       "<matplotlib.axes._subplots.AxesSubplot at 0x7f72c01be438>"
      ]
     },
     "execution_count": 58,
     "metadata": {},
     "output_type": "execute_result"
    },
    {
     "data": {
      "image/png": "[encoded data removed]",
      "text/plain": [
       "<matplotlib.figure.Figure at 0x7f72c018fe80>"
      ]
     },
     "metadata": {},
     "output_type": "display_data"
    }
   ],
   "source": [
    "# niveau de gris selon la valeur de dépression\n",
    "df.plot.scatter(x='age',y='taux_max',c='depression')"
   ]
  },
  {
   "cell_type": "code",
   "execution_count": 59,
   "metadata": {},
   "outputs": [
    {
     "data": {
      "text/plain": [
       "<matplotlib.axes._subplots.AxesSubplot at 0x7f72c0078588>"
      ]
     },
     "execution_count": 59,
     "metadata": {},
     "output_type": "execute_result"
    },
    {
     "data": {
      "image/png": "[encoded data removed]",
      "text/plain": [
       "<matplotlib.figure.Figure at 0x7f72c0347390>"
      ]
     },
     "metadata": {},
     "output_type": "display_data"
    }
   ],
   "source": [
    "# taille des points selon la valeur de dépression\n",
    "df.plot.scatter(x='age',y='taux_max',s=df['depression'])"
   ]
  },
  {
   "cell_type": "code",
   "execution_count": 60,
   "metadata": {},
   "outputs": [
    {
     "data": {
      "text/plain": [
       "<matplotlib.axes._subplots.AxesSubplot at 0x7f72c0195a58>"
      ]
     },
     "execution_count": 60,
     "metadata": {},
     "output_type": "execute_result"
    },
    {
     "data": {
      "image/png": "[encoded data removed]",
      "text/plain": [
       "<matplotlib.figure.Figure at 0x7f72c00624a8>"
      ]
     },
     "metadata": {},
     "output_type": "display_data"
    }
   ],
   "source": [
    "# en distinguant selon la valeur de coeur\n",
    "# recodage de coeur - ici en 0/1\n",
    "code_coeur=df['coeur'].eq('presence').astype('int')\n",
    "# afficher le graphique en spécifiant la couleur (blue=0, green =1)\n",
    "df.plot.scatter(x='age',y='taux_max',c=pandas.Series(['blue','green'])[code_coeur])"
   ]
  },
  {
   "cell_type": "code",
   "execution_count": 61,
   "metadata": {},
   "outputs": [
    {
     "data": {
      "text/plain": [
       "<matplotlib.axes._subplots.AxesSubplot at 0x7f72bff7ffd0>"
      ]
     },
     "execution_count": 61,
     "metadata": {},
     "output_type": "execute_result"
    },
    {
     "data": {
      "image/png": "[encoded data removed]",
      "text/plain": [
       "<matplotlib.figure.Figure at 0x7f72c03473c8>"
      ]
     },
     "metadata": {},
     "output_type": "display_data"
    }
   ],
   "source": [
    "# grille à la carte de Kohonen - permet de voir la densité des points\n",
    "df.plot.hexbin(x='age',y='taux_max',gridsize=25)"
   ]
  },
  {
   "cell_type": "markdown",
   "metadata": {},
   "source": [
    "Les tracés Hexbin peuvent être une alternative utile aux diagrammes de dispersion si vos données sont trop denses pour tracer chaque point individuellement."
   ]
  },
  {
   "cell_type": "code",
   "execution_count": 62,
   "metadata": {},
   "outputs": [
    {
     "data": {
      "text/plain": [
       "<matplotlib.axes._subplots.AxesSubplot at 0x7f72bfe83b38>"
      ]
     },
     "execution_count": 62,
     "metadata": {},
     "output_type": "execute_result"
    },
    {
     "data": {
      "image/png": "[encoded data removed]",
      "text/plain": [
       "<matplotlib.figure.Figure at 0x7f72bfeb54e0>"
      ]
     },
     "metadata": {},
     "output_type": "display_data"
    }
   ],
   "source": [
    "# calcul de la moyenne pour un vecteur\n",
    "def moyenne(v):\n",
    "    return(numpy.mean(v))\n",
    "\n",
    "# grille à la carte de Kohonen où la couleur dépend de la moyenne de dépression\n",
    "df.plot.hexbin(x='age',y='taux_max',C='depression', reduce_C_function=moyenne, gridsize=25)"
   ]
  },
  {
   "cell_type": "code",
   "execution_count": 63,
   "metadata": {},
   "outputs": [
    {
     "data": {
      "text/plain": [
       "<matplotlib.axes._subplots.AxesSubplot at 0x7f72bfda9828>"
      ]
     },
     "execution_count": 63,
     "metadata": {},
     "output_type": "execute_result"
    },
    {
     "data": {
      "image/png": "[encoded data removed]",
      "text/plain": [
       "<matplotlib.figure.Figure at 0x7f72bfd1fdd8>"
      ]
     },
     "metadata": {},
     "output_type": "display_data"
    }
   ],
   "source": [
    "# diagramme à secteurs - comptage de sexe\n",
    "df['sexe'].value_counts().plot.pie()"
   ]
  },
  {
   "cell_type": "code",
   "execution_count": 64,
   "metadata": {},
   "outputs": [
    {
     "data": {
      "text/plain": [
       "array([[<matplotlib.axes._subplots.AxesSubplot object at 0x7f72bfcc6780>,\n",
       "        <matplotlib.axes._subplots.AxesSubplot object at 0x7f72bfc08ba8>,\n",
       "        <matplotlib.axes._subplots.AxesSubplot object at 0x7f72bfb790f0>,\n",
       "        <matplotlib.axes._subplots.AxesSubplot object at 0x7f72bfb4d908>,\n",
       "        <matplotlib.axes._subplots.AxesSubplot object at 0x7f72bfab3c18>,\n",
       "        <matplotlib.axes._subplots.AxesSubplot object at 0x7f72bfab3c50>],\n",
       "       [<matplotlib.axes._subplots.AxesSubplot object at 0x7f72bf9f9780>,\n",
       "        <matplotlib.axes._subplots.AxesSubplot object at 0x7f72bf9d5588>,\n",
       "        <matplotlib.axes._subplots.AxesSubplot object at 0x7f72bf93e6d8>,\n",
       "        <matplotlib.axes._subplots.AxesSubplot object at 0x7f72bf91b3c8>,\n",
       "        <matplotlib.axes._subplots.AxesSubplot object at 0x7f72bf8817f0>,\n",
       "        <matplotlib.axes._subplots.AxesSubplot object at 0x7f72bf859208>],\n",
       "       [<matplotlib.axes._subplots.AxesSubplot object at 0x7f72bf7c77f0>,\n",
       "        <matplotlib.axes._subplots.AxesSubplot object at 0x7f72bf7e4c50>,\n",
       "        <matplotlib.axes._subplots.AxesSubplot object at 0x7f72bf707550>,\n",
       "        <matplotlib.axes._subplots.AxesSubplot object at 0x7f72bf673860>,\n",
       "        <matplotlib.axes._subplots.AxesSubplot object at 0x7f72bf638438>,\n",
       "        <matplotlib.axes._subplots.AxesSubplot object at 0x7f72bf620d30>],\n",
       "       [<matplotlib.axes._subplots.AxesSubplot object at 0x7f72bf57e908>,\n",
       "        <matplotlib.axes._subplots.AxesSubplot object at 0x7f72bf566d30>,\n",
       "        <matplotlib.axes._subplots.AxesSubplot object at 0x7f72bf4bffd0>,\n",
       "        <matplotlib.axes._subplots.AxesSubplot object at 0x7f72bf432518>,\n",
       "        <matplotlib.axes._subplots.AxesSubplot object at 0x7f72bf407e10>,\n",
       "        <matplotlib.axes._subplots.AxesSubplot object at 0x7f72bf376438>],\n",
       "       [<matplotlib.axes._subplots.AxesSubplot object at 0x7f72bf345c50>,\n",
       "        <matplotlib.axes._subplots.AxesSubplot object at 0x7f72bf2ba160>,\n",
       "        <matplotlib.axes._subplots.AxesSubplot object at 0x7f72bf2d8ba8>,\n",
       "        <matplotlib.axes._subplots.AxesSubplot object at 0x7f72bf1f7f98>,\n",
       "        <matplotlib.axes._subplots.AxesSubplot object at 0x7f72bf1e62e8>,\n",
       "        <matplotlib.axes._subplots.AxesSubplot object at 0x7f72bf13bbe0>],\n",
       "       [<matplotlib.axes._subplots.AxesSubplot object at 0x7f72bf123ef0>,\n",
       "        <matplotlib.axes._subplots.AxesSubplot object at 0x7f72bf07fa58>,\n",
       "        <matplotlib.axes._subplots.AxesSubplot object at 0x7f72bf0699b0>,\n",
       "        <matplotlib.axes._subplots.AxesSubplot object at 0x7f72befca438>,\n",
       "        <matplotlib.axes._subplots.AxesSubplot object at 0x7f72bef33780>,\n",
       "        <matplotlib.axes._subplots.AxesSubplot object at 0x7f72bef10b00>]], dtype=object)"
      ]
     },
     "execution_count": 64,
     "metadata": {},
     "output_type": "execute_result"
    },
    {
     "data": {
      "image/png": "[encoded data removed]",
      "text/plain": [
       "<matplotlib.figure.Figure at 0x7f72bfd26ef0>"
      ]
     },
     "metadata": {},
     "output_type": "display_data"
    }
   ],
   "source": [
    "# scatterpolt des variables pris deux à deux\n",
    "# uniquement les variables quantitatives \n",
    "pandas.tools.plotting.scatter_matrix(df.select_dtypes(exclude=['object']))"
   ]
  },
  {
   "cell_type": "code",
   "execution_count": null,
   "metadata": {
    "collapsed": true
   },
   "outputs": [],
   "source": []
  }
 ],
 "metadata": {
  "anaconda-cloud": {},
  "kernelspec": {
   "display_name": "Python 3 (ipykernel)",
   "language": "python",
   "name": "python3"
  },
  "language_info": {
   "codemirror_mode": {
    "name": "ipython",
    "version": 3
   },
   "file_extension": ".py",
   "mimetype": "text/x-python",
   "name": "python",
   "nbconvert_exporter": "python",
   "pygments_lexer": "ipython3",
   "version": "3.11.2"
  }
 },
 "nbformat": 4,
 "nbformat_minor": 2
}
