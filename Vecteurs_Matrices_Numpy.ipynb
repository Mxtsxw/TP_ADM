{
 "cells": [
  {
   "cell_type": "markdown",
   "metadata": {},
   "source": [
    "# Vecteurs et matrices avec Numpy"
   ]
  },
  {
   "cell_type": "markdown",
   "metadata": {},
   "source": [
    "* Numpy est un package pour Python spécilisé dans la manipulation des tableaux (array), essentiellement les vecteurs et les matrices.\n",
    "* Le package propose un grand nombre de routines pour un accès rapide aux données (ex. recherche, extraction), pour les manipulations diverses (ex. tri), pour les calculs (ex. calcul statistique)."
   ]
  },
  {
   "cell_type": "markdown",
   "metadata": {},
   "source": [
    "## 1. Création d'un vecteur"
   ]
  },
  {
   "cell_type": "markdown",
   "metadata": {},
   "source": [
    "### 1.1. Création via une saisie manuelle"
   ]
  },
  {
   "cell_type": "code",
   "execution_count": 1,
   "metadata": {
    "collapsed": true
   },
   "outputs": [],
   "source": [
    "# importer le module numpy\n",
    "# np alias pour accéder à la librairie numpy\n",
    "import numpy as np"
   ]
  },
  {
   "cell_type": "code",
   "execution_count": 2,
   "metadata": {},
   "outputs": [
    {
     "name": "stdout",
     "output_type": "stream",
     "text": [
      "[ 1.2  2.5  3.2  1.8]\n"
     ]
    }
   ],
   "source": [
    "# création manuelle à partir d'un ensemble de valeurs\n",
    "a=np.array([1.2, 2.5, 3.2, 1.8])\n",
    "\n",
    "# affichage\n",
    "print(a)"
   ]
  },
  {
   "cell_type": "code",
   "execution_count": 3,
   "metadata": {},
   "outputs": [
    {
     "name": "stdout",
     "output_type": "stream",
     "text": [
      "<class 'numpy.ndarray'>\n",
      "float64\n",
      "1\n",
      "(4,)\n",
      "4\n"
     ]
    }
   ],
   "source": [
    "# type de structure\n",
    "print(type(a))\n",
    "\n",
    "# type de données\n",
    "print(a.dtype)\n",
    "\n",
    "# nombre de dimensions\n",
    "print(a.ndim)\n",
    "\n",
    "# nombre de lignes et de colonnes\n",
    "print(a.shape)\n",
    "\n",
    "# nombre totale de valeurs\n",
    "print(a.size)"
   ]
  },
  {
   "cell_type": "code",
   "execution_count": 4,
   "metadata": {},
   "outputs": [
    {
     "name": "stdout",
     "output_type": "stream",
     "text": [
      "int64\n"
     ]
    }
   ],
   "source": [
    "# Création de typage implicite\n",
    "\n",
    "b=np.array([1,2,4])\n",
    "print(b.dtype)"
   ]
  },
  {
   "cell_type": "code",
   "execution_count": 5,
   "metadata": {},
   "outputs": [
    {
     "name": "stdout",
     "output_type": "stream",
     "text": [
      "float64\n"
     ]
    }
   ],
   "source": [
    "b=np.array([1,2,4],dtype=float)\n",
    "print(b.dtype)"
   ]
  },
  {
   "cell_type": "code",
   "execution_count": 6,
   "metadata": {},
   "outputs": [
    {
     "name": "stdout",
     "output_type": "stream",
     "text": [
      "bool\n"
     ]
    }
   ],
   "source": [
    "c=np.array([True, False, False])\n",
    "print(c.dtype)"
   ]
  },
  {
   "cell_type": "code",
   "execution_count": 7,
   "metadata": {},
   "outputs": [
    {
     "name": "stdout",
     "output_type": "stream",
     "text": [
      "[{'A': (45, 200)} {'B': (34, 150)}]\n",
      "object\n"
     ]
    }
   ],
   "source": [
    "d=np.array([{\"A\":(45, 200)}, {\"B\":(34, 150)}])\n",
    "print(d)\n",
    "print(d.dtype)"
   ]
  },
  {
   "cell_type": "markdown",
   "metadata": {},
   "source": [
    "### 1.2. Création d'une séquence de valeurs"
   ]
  },
  {
   "cell_type": "code",
   "execution_count": 8,
   "metadata": {},
   "outputs": [
    {
     "name": "stdout",
     "output_type": "stream",
     "text": [
      "[0 1 2 3 4 5 6 7 8 9]\n"
     ]
    }
   ],
   "source": [
    "# suite arithmétique de raison 1\n",
    "a=np.arange(start=0,stop=10)\n",
    "print(a)"
   ]
  },
  {
   "cell_type": "code",
   "execution_count": 9,
   "metadata": {},
   "outputs": [
    {
     "name": "stdout",
     "output_type": "stream",
     "text": [
      "[0 2 4 6 8]\n"
     ]
    }
   ],
   "source": [
    "# suite arithmétique de raison step\n",
    "a=np.arange(start=0,stop=10, step=2)\n",
    "print(a)"
   ]
  },
  {
   "cell_type": "code",
   "execution_count": 10,
   "metadata": {},
   "outputs": [
    {
     "name": "stdout",
     "output_type": "stream",
     "text": [
      "[ 1.  1.  1.  1.  1.]\n"
     ]
    }
   ],
   "source": [
    "# vecteur de valeurs identiques 1\n",
    "a=np.ones(shape=5)\n",
    "print(a)"
   ]
  },
  {
   "cell_type": "code",
   "execution_count": 11,
   "metadata": {},
   "outputs": [
    {
     "name": "stdout",
     "output_type": "stream",
     "text": [
      "[ 3.2  3.2  3.2  3.2  3.2]\n"
     ]
    }
   ],
   "source": [
    "# répétition de la même valeur\n",
    "a=np.full(shape=5, fill_value=3.2)\n",
    "print(a)"
   ]
  },
  {
   "cell_type": "code",
   "execution_count": 12,
   "metadata": {},
   "outputs": [
    {
     "name": "stdout",
     "output_type": "stream",
     "text": [
      "[  3.   5.  17.   5.  35.]\n"
     ]
    }
   ],
   "source": [
    "# charger à partir d'un fichier\n",
    "a=np.loadtxt(\"vecteur.txt\", dtype=float)\n",
    "print(a)"
   ]
  },
  {
   "cell_type": "code",
   "execution_count": 13,
   "metadata": {},
   "outputs": [
    {
     "name": "stdout",
     "output_type": "stream",
     "text": [
      "<class 'list'>\n",
      "[ 1.2  3.1  4.5]\n",
      "<class 'numpy.ndarray'>\n"
     ]
    }
   ],
   "source": [
    "# conversion d'une collection en type array\n",
    "\n",
    "# liste de valeurs\n",
    "lst=[1.2, 3.1, 4.5]\n",
    "print(type(lst))\n",
    "\n",
    "# conversion à partir d'une liste\n",
    "a = np.asarray(lst,dtype=float)\n",
    "print(a)\n",
    "print(type(a))"
   ]
  },
  {
   "cell_type": "markdown",
   "metadata": {},
   "source": [
    "### 1.3. Redimensionnement\n"
   ]
  },
  {
   "cell_type": "code",
   "execution_count": 14,
   "metadata": {},
   "outputs": [
    {
     "name": "stdout",
     "output_type": "stream",
     "text": [
      "[ 1.2  2.5  3.2  1.8]\n"
     ]
    }
   ],
   "source": [
    "# vecteur de valeurs\n",
    "a=np.array([1.2,2.5,3.2,1.8])\n",
    "print(a)"
   ]
  },
  {
   "cell_type": "code",
   "execution_count": 15,
   "metadata": {},
   "outputs": [
    {
     "name": "stdout",
     "output_type": "stream",
     "text": [
      "[  1.2   2.5   3.2   1.8  10. ]\n"
     ]
    }
   ],
   "source": [
    "# ajouter une valeur, placée en dernière position\n",
    "a=np.append(a,10)\n",
    "print(a)"
   ]
  },
  {
   "cell_type": "code",
   "execution_count": 16,
   "metadata": {},
   "outputs": [
    {
     "name": "stdout",
     "output_type": "stream",
     "text": [
      "[  1.2   2.5   1.8  10. ]\n"
     ]
    }
   ],
   "source": [
    "# suppression via indice\n",
    "b=np.delete(a,2)\n",
    "print(b)"
   ]
  },
  {
   "cell_type": "code",
   "execution_count": 17,
   "metadata": {},
   "outputs": [
    {
     "name": "stdout",
     "output_type": "stream",
     "text": [
      "[[1 2 3 0 0]]\n"
     ]
    }
   ],
   "source": [
    "# redimensionnement (les nouvelles cases mises à 0)\n",
    "a=np.array([1,2,3])\n",
    "a.resize(1,5)\n",
    "print(a)"
   ]
  },
  {
   "cell_type": "code",
   "execution_count": 18,
   "metadata": {},
   "outputs": [
    {
     "name": "stdout",
     "output_type": "stream",
     "text": [
      "[1 2 5 6 2 1 7]\n"
     ]
    }
   ],
   "source": [
    "# concatenation\n",
    "x=np.array([1,2,5,6])\n",
    "y=np.array([2,1,7])\n",
    "z=np.append(x,y)\n",
    "print(z)"
   ]
  },
  {
   "cell_type": "markdown",
   "metadata": {},
   "source": [
    "## 2. Extraction des valeurs d'un vecteur"
   ]
  },
  {
   "cell_type": "markdown",
   "metadata": {},
   "source": [
    "### 2.1. Accès indicé"
   ]
  },
  {
   "cell_type": "code",
   "execution_count": 19,
   "metadata": {},
   "outputs": [
    {
     "name": "stdout",
     "output_type": "stream",
     "text": [
      "[ 1.2  7.4  4.2  8.5  6.3]\n"
     ]
    }
   ],
   "source": [
    "v=np.array([1.2, 7.4, 4.2, 8.5, 6.3])\n",
    "print(v)"
   ]
  },
  {
   "cell_type": "code",
   "execution_count": 20,
   "metadata": {},
   "outputs": [
    {
     "name": "stdout",
     "output_type": "stream",
     "text": [
      "1.2\n"
     ]
    }
   ],
   "source": [
    "# première valeur\n",
    "print(v[0])"
   ]
  },
  {
   "cell_type": "code",
   "execution_count": 21,
   "metadata": {},
   "outputs": [
    {
     "name": "stdout",
     "output_type": "stream",
     "text": [
      "6.3\n"
     ]
    }
   ],
   "source": [
    "# dernière valeur\n",
    "print(v[-1])"
   ]
  },
  {
   "cell_type": "code",
   "execution_count": 22,
   "metadata": {},
   "outputs": [
    {
     "name": "stdout",
     "output_type": "stream",
     "text": [
      "[ 7.4  4.2]\n"
     ]
    }
   ],
   "source": [
    "# palge d'indices (3 non-inclus)\n",
    "print(v[1:3])"
   ]
  },
  {
   "cell_type": "code",
   "execution_count": 23,
   "metadata": {},
   "outputs": [
    {
     "name": "stdout",
     "output_type": "stream",
     "text": [
      "[ 1.2  7.4  4.2]\n"
     ]
    }
   ],
   "source": [
    "# extrêms, début à 3 (non-inclus)\n",
    "print(v[:3])"
   ]
  },
  {
   "cell_type": "code",
   "execution_count": 24,
   "metadata": {},
   "outputs": [
    {
     "name": "stdout",
     "output_type": "stream",
     "text": [
      "[ 4.2  8.5  6.3]\n"
     ]
    }
   ],
   "source": [
    "# extrêmes, 2 à fin\n",
    "print(v[2:])"
   ]
  },
  {
   "cell_type": "code",
   "execution_count": 25,
   "metadata": {},
   "outputs": [
    {
     "name": "stdout",
     "output_type": "stream",
     "text": [
      "[ 4.2  8.5  6.3]\n"
     ]
    }
   ],
   "source": [
    "# indices négatifs \n",
    "print(v[-3:]) # 3 derniers éléments"
   ]
  },
  {
   "cell_type": "code",
   "execution_count": 26,
   "metadata": {},
   "outputs": [
    {
     "name": "stdout",
     "output_type": "stream",
     "text": [
      "[ 7.4  4.2  8.5]\n"
     ]
    }
   ],
   "source": [
    "# valeur de 1 à 3 avec un pas 1 (implicitement le pas est 1)\n",
    "print(v[1:4:1])"
   ]
  },
  {
   "cell_type": "code",
   "execution_count": 27,
   "metadata": {},
   "outputs": [
    {
     "name": "stdout",
     "output_type": "stream",
     "text": [
      "[ 1.2  4.2]\n"
     ]
    }
   ],
   "source": [
    "# de 0 à 2 avec un pas de 2\n",
    "print(v[0:3:2])"
   ]
  },
  {
   "cell_type": "code",
   "execution_count": 28,
   "metadata": {},
   "outputs": [
    {
     "name": "stdout",
     "output_type": "stream",
     "text": [
      "[ 8.5  4.2  7.4]\n"
     ]
    }
   ],
   "source": [
    "# le pas peut être négatif, de 3 à 1 avec un pas de -1\n",
    "print(v[3:0:-1])"
   ]
  },
  {
   "cell_type": "code",
   "execution_count": 29,
   "metadata": {},
   "outputs": [
    {
     "name": "stdout",
     "output_type": "stream",
     "text": [
      "[ 6.3  8.5  4.2  7.4  1.2]\n"
     ]
    }
   ],
   "source": [
    "# inverser un vecteur\n",
    "print(v[::-1])"
   ]
  },
  {
   "cell_type": "markdown",
   "metadata": {},
   "source": [
    "### 2.2. Accès par conditions"
   ]
  },
  {
   "cell_type": "code",
   "execution_count": 30,
   "metadata": {},
   "outputs": [
    {
     "name": "stdout",
     "output_type": "stream",
     "text": [
      "[ 7.4  8.5]\n"
     ]
    }
   ],
   "source": [
    "# extraction avec un vecteur de booléens\n",
    "b=np.array([False, True, False, True, False],dtype=bool)\n",
    "print(v[b])"
   ]
  },
  {
   "cell_type": "code",
   "execution_count": 31,
   "metadata": {},
   "outputs": [
    {
     "name": "stdout",
     "output_type": "stream",
     "text": [
      "[ 1.2  4.2  6.3]\n"
     ]
    }
   ],
   "source": [
    "# condition pour l'extraction\n",
    "print(v[v<7])"
   ]
  },
  {
   "cell_type": "code",
   "execution_count": 32,
   "metadata": {},
   "outputs": [
    {
     "name": "stdout",
     "output_type": "stream",
     "text": [
      "[ 1.2  4.2  6.3]\n"
     ]
    }
   ],
   "source": [
    "# on peut utiliser extract()\n",
    "print(np.extract(v<7,v))"
   ]
  },
  {
   "cell_type": "code",
   "execution_count": 33,
   "metadata": {},
   "outputs": [
    {
     "name": "stdout",
     "output_type": "stream",
     "text": [
      "[ True False  True False  True]\n"
     ]
    }
   ],
   "source": [
    "# la condition est un vecteur de booléen\n",
    "b=v<7\n",
    "print(b)"
   ]
  },
  {
   "cell_type": "code",
   "execution_count": 34,
   "metadata": {},
   "outputs": [
    {
     "name": "stdout",
     "output_type": "stream",
     "text": [
      "8.5\n"
     ]
    }
   ],
   "source": [
    "# valeur maximale\n",
    "print(np.max(v))\n",
    "# même chose pour min()"
   ]
  },
  {
   "cell_type": "code",
   "execution_count": 35,
   "metadata": {},
   "outputs": [
    {
     "name": "stdout",
     "output_type": "stream",
     "text": [
      "3\n"
     ]
    }
   ],
   "source": [
    "# indice de la valeur maximale\n",
    "print(np.argmax(v))"
   ]
  },
  {
   "cell_type": "code",
   "execution_count": 36,
   "metadata": {},
   "outputs": [
    {
     "name": "stdout",
     "output_type": "stream",
     "text": [
      "[ 1.2  4.2  6.3  7.4  8.5]\n"
     ]
    }
   ],
   "source": [
    "# tri de valeurs\n",
    "print(np.sort(v))"
   ]
  },
  {
   "cell_type": "code",
   "execution_count": 37,
   "metadata": {},
   "outputs": [
    {
     "name": "stdout",
     "output_type": "stream",
     "text": [
      "[0 2 4 1 3]\n"
     ]
    }
   ],
   "source": [
    "# récupération des indices triés\n",
    "print(np.argsort(v))"
   ]
  },
  {
   "cell_type": "code",
   "execution_count": 38,
   "metadata": {},
   "outputs": [
    {
     "name": "stdout",
     "output_type": "stream",
     "text": [
      "[1 2]\n"
     ]
    }
   ],
   "source": [
    "# valeurs distinctes\n",
    "a=np.array([1,2,2,2,1,1,2])\n",
    "print(np.unique(a))"
   ]
  },
  {
   "cell_type": "markdown",
   "metadata": {},
   "source": [
    "## 3. Calculs sur les vecteurs"
   ]
  },
  {
   "cell_type": "code",
   "execution_count": 39,
   "metadata": {},
   "outputs": [
    {
     "name": "stdout",
     "output_type": "stream",
     "text": [
      "5.52\n"
     ]
    }
   ],
   "source": [
    "# moyenne\n",
    "print(np.mean(v))"
   ]
  },
  {
   "cell_type": "code",
   "execution_count": 40,
   "metadata": {},
   "outputs": [
    {
     "name": "stdout",
     "output_type": "stream",
     "text": [
      "6.3\n"
     ]
    }
   ],
   "source": [
    "# médiane\n",
    "print(np.median(v))"
   ]
  },
  {
   "cell_type": "code",
   "execution_count": 41,
   "metadata": {},
   "outputs": [
    {
     "name": "stdout",
     "output_type": "stream",
     "text": [
      "6.6856\n"
     ]
    }
   ],
   "source": [
    "# variance\n",
    "print(np.var(v))"
   ]
  },
  {
   "cell_type": "code",
   "execution_count": 42,
   "metadata": {},
   "outputs": [
    {
     "name": "stdout",
     "output_type": "stream",
     "text": [
      "2.58565272223\n"
     ]
    }
   ],
   "source": [
    "# écrat type\n",
    "print(np.std(v))"
   ]
  },
  {
   "cell_type": "code",
   "execution_count": 43,
   "metadata": {},
   "outputs": [
    {
     "name": "stdout",
     "output_type": "stream",
     "text": [
      "6.3\n"
     ]
    }
   ],
   "source": [
    "# quantile\n",
    "print(np.percentile(v,50)) # (50%=médiane)"
   ]
  },
  {
   "cell_type": "code",
   "execution_count": 44,
   "metadata": {},
   "outputs": [
    {
     "name": "stdout",
     "output_type": "stream",
     "text": [
      "27.6\n"
     ]
    }
   ],
   "source": [
    "# somme\n",
    "print(np.sum(v))"
   ]
  },
  {
   "cell_type": "code",
   "execution_count": 45,
   "metadata": {},
   "outputs": [
    {
     "name": "stdout",
     "output_type": "stream",
     "text": [
      "[  1.2   8.6  12.8  21.3  27.6]\n"
     ]
    }
   ],
   "source": [
    "# somme cumulée\n",
    "print(np.cumsum(v))"
   ]
  },
  {
   "cell_type": "code",
   "execution_count": 46,
   "metadata": {},
   "outputs": [
    {
     "name": "stdout",
     "output_type": "stream",
     "text": [
      "[ 2.52  1.04  1.3 ]\n"
     ]
    }
   ],
   "source": [
    "# multiplication de deux vecteurs (terme à terme)\n",
    "x=np.array([1.2, 1.3, 1.0])\n",
    "y=np.array([2.1, 0.8, 1.3])\n",
    "print(x*y)"
   ]
  },
  {
   "cell_type": "code",
   "execution_count": 47,
   "metadata": {},
   "outputs": [
    {
     "name": "stdout",
     "output_type": "stream",
     "text": [
      "[ 3.3  2.1  2.3]\n"
     ]
    }
   ],
   "source": [
    "# somme\n",
    "print(x+y)"
   ]
  },
  {
   "cell_type": "code",
   "execution_count": 48,
   "metadata": {},
   "outputs": [
    {
     "name": "stdout",
     "output_type": "stream",
     "text": [
      "[ 2.4  2.6  2. ]\n"
     ]
    }
   ],
   "source": [
    "# multiplication par un scalaire\n",
    "print(2*x)"
   ]
  },
  {
   "cell_type": "code",
   "execution_count": 49,
   "metadata": {},
   "outputs": [
    {
     "name": "stdout",
     "output_type": "stream",
     "text": [
      "4.86\n"
     ]
    }
   ],
   "source": [
    "# produit scalaire\n",
    "w=np.vdot(x,y)\n",
    "print(w)"
   ]
  },
  {
   "cell_type": "code",
   "execution_count": 50,
   "metadata": {},
   "outputs": [
    {
     "name": "stdout",
     "output_type": "stream",
     "text": [
      "4.86\n"
     ]
    }
   ],
   "source": [
    "# ou bien\n",
    "print(np.sum(x*y))"
   ]
  },
  {
   "cell_type": "code",
   "execution_count": 51,
   "metadata": {},
   "outputs": [
    {
     "name": "stdout",
     "output_type": "stream",
     "text": [
      "2.03224014329\n"
     ]
    }
   ],
   "source": [
    "# norme d'un vecteur\n",
    "n=np.linalg.norm(x)\n",
    "print(n)"
   ]
  },
  {
   "cell_type": "code",
   "execution_count": 52,
   "metadata": {},
   "outputs": [
    {
     "name": "stdout",
     "output_type": "stream",
     "text": [
      "2.0322401432901573\n"
     ]
    }
   ],
   "source": [
    "# ou bien\n",
    "import math\n",
    "print(math.sqrt(np.sum(x**2)))"
   ]
  },
  {
   "cell_type": "code",
   "execution_count": 53,
   "metadata": {},
   "outputs": [
    {
     "name": "stdout",
     "output_type": "stream",
     "text": [
      "[False  True False]\n"
     ]
    }
   ],
   "source": [
    "# comparaison\n",
    "z=x>y\n",
    "print(z)"
   ]
  },
  {
   "cell_type": "code",
   "execution_count": 54,
   "metadata": {},
   "outputs": [
    {
     "name": "stdout",
     "output_type": "stream",
     "text": [
      "[ True False False False]\n"
     ]
    }
   ],
   "source": [
    "# opérations logiques\n",
    "a=np.array([True,True,False,True],dtype=bool)\n",
    "b=np.array([True,False,True,False],dtype=bool)\n",
    "# ET logique\n",
    "c=np.logical_and(a,b)\n",
    "print(c)"
   ]
  },
  {
   "cell_type": "code",
   "execution_count": 55,
   "metadata": {},
   "outputs": [
    {
     "data": {
      "text/plain": [
       "array([False,  True,  True,  True], dtype=bool)"
      ]
     },
     "execution_count": 55,
     "metadata": {},
     "output_type": "execute_result"
    }
   ],
   "source": [
    "# OU exclusif logique\n",
    "np.logical_xor(a,b)"
   ]
  },
  {
   "cell_type": "code",
   "execution_count": 56,
   "metadata": {},
   "outputs": [
    {
     "name": "stdout",
     "output_type": "stream",
     "text": [
      "[1 2]\n"
     ]
    }
   ],
   "source": [
    "# opérations ensemblistes\n",
    "x=np.array([1,2,5,7])\n",
    "y=np.array([2,4,6,1])\n",
    "\n",
    "# intersection\n",
    "print(np.intersect1d(x,y))"
   ]
  },
  {
   "cell_type": "code",
   "execution_count": 57,
   "metadata": {},
   "outputs": [
    {
     "name": "stdout",
     "output_type": "stream",
     "text": [
      "[1 2 4 5 6 7]\n"
     ]
    }
   ],
   "source": [
    "# union\n",
    "print(np.union1d(x,y))"
   ]
  },
  {
   "cell_type": "code",
   "execution_count": 58,
   "metadata": {},
   "outputs": [
    {
     "name": "stdout",
     "output_type": "stream",
     "text": [
      "[5 7]\n"
     ]
    }
   ],
   "source": [
    "# différence, c-à-d qui sont dans x et pas dans y\n",
    "print(np.setdiff1d(x,y))"
   ]
  },
  {
   "cell_type": "markdown",
   "metadata": {},
   "source": [
    "## 4. Création d'une matrice"
   ]
  },
  {
   "cell_type": "code",
   "execution_count": 59,
   "metadata": {},
   "outputs": [
    {
     "name": "stdout",
     "output_type": "stream",
     "text": [
      "[[ 1.2  2.5]\n",
      " [ 3.2  1.8]\n",
      " [ 1.1  4.3]]\n"
     ]
    }
   ],
   "source": [
    "##### création manuelle à partir d'un ensemble de valeurs\n",
    "a=np.array([[1.2,2.5],[3.2, 1.8],[1.1,4.3]])\n",
    "\n",
    "# affichage\n",
    "print(a)"
   ]
  },
  {
   "cell_type": "code",
   "execution_count": 60,
   "metadata": {},
   "outputs": [
    {
     "name": "stdout",
     "output_type": "stream",
     "text": [
      "<class 'numpy.ndarray'>\n",
      "float64\n",
      "2\n",
      "(3, 2)\n",
      "6\n"
     ]
    }
   ],
   "source": [
    "# type de structure\n",
    "print(type(a))\n",
    "\n",
    "# type de données\n",
    "print(a.dtype)\n",
    "\n",
    "# nombre de dimensions\n",
    "print(a.ndim)\n",
    "\n",
    "# nombre de lignes et de colonnes\n",
    "print(a.shape)\n",
    "\n",
    "# nombre totale de valeurs\n",
    "print(a.size)"
   ]
  },
  {
   "cell_type": "code",
   "execution_count": 61,
   "metadata": {},
   "outputs": [
    {
     "name": "stdout",
     "output_type": "stream",
     "text": [
      "int64\n"
     ]
    }
   ],
   "source": [
    "# création et typage implicite\n",
    "a=np.array([[1,2],[4,7]])\n",
    "print(a.dtype)"
   ]
  },
  {
   "cell_type": "code",
   "execution_count": 62,
   "metadata": {},
   "outputs": [
    {
     "name": "stdout",
     "output_type": "stream",
     "text": [
      "float64\n"
     ]
    }
   ],
   "source": [
    "# création et typage explicite\n",
    "a=np.array([[1,2],[4,7]],dtype=float)\n",
    "print(a.dtype)"
   ]
  },
  {
   "cell_type": "code",
   "execution_count": 63,
   "metadata": {},
   "outputs": [
    {
     "name": "stdout",
     "output_type": "stream",
     "text": [
      "[[0 1 2 3 4]\n",
      " [5 6 7 8 9]]\n"
     ]
    }
   ],
   "source": [
    "# création à partir d'une séquence\n",
    "# arange() génère une séquence de valeurs\n",
    "# reshape() se charge de les réorganiser en des lignes et des colonnes\n",
    "a=np.arange(0,10).reshape(2,5)\n",
    "print(a)"
   ]
  },
  {
   "cell_type": "code",
   "execution_count": 64,
   "metadata": {},
   "outputs": [
    {
     "name": "stdout",
     "output_type": "stream",
     "text": [
      "(6,)\n"
     ]
    }
   ],
   "source": [
    "# un vecetur peut être converti en matrice\n",
    "a=np.array([2.1,3.4,6.7,8.1,3.5,7.2])\n",
    "print(a.shape)"
   ]
  },
  {
   "cell_type": "code",
   "execution_count": 65,
   "metadata": {},
   "outputs": [
    {
     "name": "stdout",
     "output_type": "stream",
     "text": [
      "(3, 2)\n",
      "[[ 2.1  3.4]\n",
      " [ 6.7  8.1]\n",
      " [ 3.5  7.2]]\n"
     ]
    }
   ],
   "source": [
    "# redimensionner en 3 lignes et 2 colonnes\n",
    "b=a.reshape(3,2)\n",
    "print(b.shape)\n",
    "print(b)"
   ]
  },
  {
   "cell_type": "code",
   "execution_count": 66,
   "metadata": {},
   "outputs": [
    {
     "name": "stdout",
     "output_type": "stream",
     "text": [
      "[[ 0.  0.  0.  0.]\n",
      " [ 0.  0.  0.  0.]]\n"
     ]
    }
   ],
   "source": [
    "# metrices de valeurs identiques\n",
    "# ex. pour initialisation\n",
    "a=np.zeros(shape=(2,4))\n",
    "print(a)"
   ]
  },
  {
   "cell_type": "code",
   "execution_count": 67,
   "metadata": {},
   "outputs": [
    {
     "name": "stdout",
     "output_type": "stream",
     "text": [
      "[[ 0.1  0.1  0.1  0.1]\n",
      " [ 0.1  0.1  0.1  0.1]]\n"
     ]
    }
   ],
   "source": [
    "# plus généralement\n",
    "a=np.full(shape=(2,4),fill_value=0.1)\n",
    "print(a)"
   ]
  },
  {
   "cell_type": "code",
   "execution_count": 68,
   "metadata": {},
   "outputs": [
    {
     "name": "stdout",
     "output_type": "stream",
     "text": [
      "[[  45.   62.  168.]\n",
      " [  34.   68.  187.]\n",
      " [  53.   85.  169.]]\n"
     ]
    }
   ],
   "source": [
    "# charger à partir d'un fichier, typage explicite\n",
    "# séparateur de colonne=tabulation=\"\\t\"\n",
    "a=np.loadtxt(\"matrice.txt\",delimiter=\"\\t\",dtype=float)\n",
    "print(a)"
   ]
  },
  {
   "cell_type": "code",
   "execution_count": 69,
   "metadata": {},
   "outputs": [
    {
     "name": "stdout",
     "output_type": "stream",
     "text": [
      "[[ 1.2  2.5]\n",
      " [ 3.2  1.8]\n",
      " [ 1.1  4.3]]\n"
     ]
    }
   ],
   "source": [
    "# matrice valeurs\n",
    "a=np.array([[1.2,2.5],[3.2,1.8],[1.1,4.3]])\n",
    "print(a)"
   ]
  },
  {
   "cell_type": "code",
   "execution_count": 70,
   "metadata": {},
   "outputs": [
    {
     "name": "stdout",
     "output_type": "stream",
     "text": [
      "[[ 1.2  2.5]\n",
      " [ 3.2  1.8]\n",
      " [ 1.1  4.3]\n",
      " [ 4.1  2.6]]\n"
     ]
    }
   ],
   "source": [
    "# ajouter une ligne\n",
    "b=np.array([[4.1,2.6]])\n",
    "c=np.append(a,b,axis=0)\n",
    "print(c)"
   ]
  },
  {
   "cell_type": "code",
   "execution_count": 71,
   "metadata": {},
   "outputs": [
    {
     "name": "stdout",
     "output_type": "stream",
     "text": [
      "[[ 1.2  2.5  7.8]\n",
      " [ 3.2  1.8  6.1]\n",
      " [ 1.1  4.3  5.4]]\n"
     ]
    }
   ],
   "source": [
    "# ajouter une colonne\n",
    "d=np.array([[7.8],[6.1],[5.4]])\n",
    "print(np.append(a,d,axis=1))"
   ]
  },
  {
   "cell_type": "code",
   "execution_count": 72,
   "metadata": {},
   "outputs": [
    {
     "name": "stdout",
     "output_type": "stream",
     "text": [
      "[[ 1.2  2.5]\n",
      " [ 3.2  1.8]\n",
      " [ 4.1  2.6]\n",
      " [ 1.1  4.3]]\n"
     ]
    }
   ],
   "source": [
    "# insertion\n",
    "print(np.insert(a,2,b,axis=0))"
   ]
  },
  {
   "cell_type": "code",
   "execution_count": 73,
   "metadata": {},
   "outputs": [
    {
     "name": "stdout",
     "output_type": "stream",
     "text": [
      "[[ 1.2  2.5]\n",
      " [ 1.1  4.3]]\n"
     ]
    }
   ],
   "source": [
    "# suppression\n",
    "print(np.delete(a,1,axis=0))"
   ]
  },
  {
   "cell_type": "code",
   "execution_count": 74,
   "metadata": {},
   "outputs": [
    {
     "name": "stdout",
     "output_type": "stream",
     "text": [
      "[[ 1.2  2.5  3.2]\n",
      " [ 1.8  1.1  4.3]]\n"
     ]
    }
   ],
   "source": [
    "# modifier la dimension d'une matrice existante\n",
    "# parcout les données ligne par ligne\n",
    "h=np.resize(a,new_shape=(2,3))\n",
    "print(h)"
   ]
  },
  {
   "cell_type": "markdown",
   "metadata": {},
   "source": [
    "## 5. Extraction des valeurs"
   ]
  },
  {
   "cell_type": "code",
   "execution_count": 75,
   "metadata": {},
   "outputs": [
    {
     "name": "stdout",
     "output_type": "stream",
     "text": [
      "[[1 5]\n",
      " [3 8]\n",
      " [0 4]]\n"
     ]
    }
   ],
   "source": [
    "v=np.array([[1, 5],[3,8],[0,4]])\n",
    "print(v)"
   ]
  },
  {
   "cell_type": "code",
   "execution_count": 76,
   "metadata": {},
   "outputs": [
    {
     "name": "stdout",
     "output_type": "stream",
     "text": [
      "1\n"
     ]
    }
   ],
   "source": [
    "# accès indicé - première valeur\n",
    "print(v[0,0])"
   ]
  },
  {
   "cell_type": "code",
   "execution_count": 77,
   "metadata": {},
   "outputs": [
    {
     "name": "stdout",
     "output_type": "stream",
     "text": [
      "[[1 5]\n",
      " [3 8]\n",
      " [0 4]]\n"
     ]
    }
   ],
   "source": [
    "# toutes les lignes et toutes les colonnes\n",
    "print(v[:,:])"
   ]
  },
  {
   "cell_type": "code",
   "execution_count": 78,
   "metadata": {},
   "outputs": [
    {
     "name": "stdout",
     "output_type": "stream",
     "text": [
      "[[1 5]\n",
      " [3 8]]\n"
     ]
    }
   ],
   "source": [
    "# lignes 0 et 1 (2 non inclus), toutes les colonnes\n",
    "print(v[0:2,:])"
   ]
  },
  {
   "cell_type": "code",
   "execution_count": 79,
   "metadata": {},
   "outputs": [
    {
     "name": "stdout",
     "output_type": "stream",
     "text": [
      "[[3 8]\n",
      " [0 4]]\n"
     ]
    }
   ],
   "source": [
    "# ligne 1 à la dernière\n",
    "print(v[1:,:])"
   ]
  },
  {
   "cell_type": "code",
   "execution_count": 80,
   "metadata": {},
   "outputs": [
    {
     "name": "stdout",
     "output_type": "stream",
     "text": [
      "[0 4]\n"
     ]
    }
   ],
   "source": [
    "# dernière ligne et toutes les colonnes\n",
    "print(v[-1,:])"
   ]
  },
  {
   "cell_type": "code",
   "execution_count": 81,
   "metadata": {},
   "outputs": [
    {
     "name": "stdout",
     "output_type": "stream",
     "text": [
      "[[3 8]\n",
      " [0 4]]\n"
     ]
    }
   ],
   "source": [
    "# les deux dernières lignes \n",
    "print(v[-2:,:])"
   ]
  },
  {
   "cell_type": "code",
   "execution_count": 82,
   "metadata": {},
   "outputs": [
    {
     "name": "stdout",
     "output_type": "stream",
     "text": [
      "[ 6 11  4]\n"
     ]
    }
   ],
   "source": [
    "# calculer la somme des colonnes pour chaque ligne\n",
    "s=np.sum(v,axis=1)\n",
    "print(s)"
   ]
  },
  {
   "cell_type": "code",
   "execution_count": 83,
   "metadata": {},
   "outputs": [
    {
     "name": "stdout",
     "output_type": "stream",
     "text": [
      "[False False  True]\n"
     ]
    }
   ],
   "source": [
    "# repérer les lignes dont la somme est égale au minimum\n",
    "b=(s==np.min(s))\n",
    "print(b)"
   ]
  },
  {
   "cell_type": "code",
   "execution_count": 84,
   "metadata": {},
   "outputs": [
    {
     "name": "stdout",
     "output_type": "stream",
     "text": [
      "[[0 4]]\n"
     ]
    }
   ],
   "source": [
    "# application du filtre booléen\n",
    "print(v[b,:])"
   ]
  },
  {
   "cell_type": "code",
   "execution_count": 85,
   "metadata": {},
   "outputs": [
    {
     "name": "stdout",
     "output_type": "stream",
     "text": [
      "[3 8]\n"
     ]
    }
   ],
   "source": [
    "# recherche de la valeur max des lignes pour chaque colonne\n",
    "print(np.max(v,axis=0))"
   ]
  },
  {
   "cell_type": "code",
   "execution_count": 86,
   "metadata": {},
   "outputs": [
    {
     "name": "stdout",
     "output_type": "stream",
     "text": [
      "[5 8 4]\n"
     ]
    }
   ],
   "source": [
    "# recherche de la valeur max des colonnes pour chaque ligne\n",
    "print(np.max(v,axis=1))"
   ]
  },
  {
   "cell_type": "code",
   "execution_count": 87,
   "metadata": {},
   "outputs": [
    {
     "name": "stdout",
     "output_type": "stream",
     "text": [
      "[1 1]\n"
     ]
    }
   ],
   "source": [
    "# recherche de l'indice de valeur max des lignes pour chaque colonne\n",
    "print(np.argmax(v,axis=0))"
   ]
  },
  {
   "cell_type": "code",
   "execution_count": 88,
   "metadata": {},
   "outputs": [
    {
     "name": "stdout",
     "output_type": "stream",
     "text": [
      "[[0 4]\n",
      " [1 5]\n",
      " [3 8]]\n"
     ]
    }
   ],
   "source": [
    "# tri des lignes pour chaque colonne\n",
    "print(np.sort(v,axis=0))"
   ]
  },
  {
   "cell_type": "code",
   "execution_count": 89,
   "metadata": {},
   "outputs": [
    {
     "name": "stdout",
     "output_type": "stream",
     "text": [
      "[[2 2]\n",
      " [0 0]\n",
      " [1 1]]\n"
     ]
    }
   ],
   "source": [
    "# récupération des indices triés\n",
    "print(np.argsort(v,axis=0))"
   ]
  },
  {
   "cell_type": "code",
   "execution_count": 90,
   "metadata": {},
   "outputs": [
    {
     "name": "stdout",
     "output_type": "stream",
     "text": [
      "[[ 1.2  2.5]\n",
      " [ 3.2  1.8]\n",
      " [ 1.1  4.3]]\n"
     ]
    }
   ],
   "source": [
    "v=np.array([[1.2,2.5],[3.2,1.8],[1.1,4.3]])\n",
    "print(v)"
   ]
  },
  {
   "cell_type": "code",
   "execution_count": 91,
   "metadata": {},
   "outputs": [
    {
     "name": "stdout",
     "output_type": "stream",
     "text": [
      "1.2\n",
      "2.5\n",
      "3.2\n",
      "1.8\n",
      "1.1\n",
      "4.3\n",
      "Somme= 14.1\n"
     ]
    }
   ],
   "source": [
    "# avec les indices, on peut accéder aux valeurs de la matrice\n",
    "# boucles indicées\n",
    "s=0.0\n",
    "for i in range(0,v.shape[0]):\n",
    "    for j in range(0,v.shape[1]):\n",
    "        print(v[i,j])\n",
    "        s=s+v[i,j]\n",
    "print(\"Somme=\",s)"
   ]
  },
  {
   "cell_type": "code",
   "execution_count": 92,
   "metadata": {},
   "outputs": [
    {
     "name": "stdout",
     "output_type": "stream",
     "text": [
      "1.2\n",
      "2.5\n",
      "3.2\n",
      "1.8\n",
      "1.1\n",
      "4.3\n",
      "Somme= 14.1\n"
     ]
    }
   ],
   "source": [
    "# itérateur - accès ligne par ligne\n",
    "# pas besoin des indices\n",
    "s=0.0\n",
    "for x in np.nditer(v):\n",
    "    print(x)\n",
    "    s=s+x\n",
    "print(\"Somme=\",s)"
   ]
  },
  {
   "cell_type": "code",
   "execution_count": 93,
   "metadata": {},
   "outputs": [
    {
     "name": "stdout",
     "output_type": "stream",
     "text": [
      "1.2\n",
      "3.2\n",
      "1.1\n",
      "2.5\n",
      "1.8\n",
      "4.3\n",
      "Somme= 14.1\n"
     ]
    }
   ],
   "source": [
    "# itérateur - accès colonne par colonne\n",
    "s=0.0\n",
    "for x in np.nditer(v,order=\"F\"):\n",
    "    print(x)\n",
    "    s=s+x\n",
    "print(\"Somme=\",s)"
   ]
  },
  {
   "cell_type": "markdown",
   "metadata": {},
   "source": [
    "## 6. Calcul matriciel"
   ]
  },
  {
   "cell_type": "code",
   "execution_count": 94,
   "metadata": {},
   "outputs": [
    {
     "name": "stdout",
     "output_type": "stream",
     "text": [
      "[[ 1.2  2.5]\n",
      " [ 3.2  1.8]\n",
      " [ 1.1  4.3]]\n",
      "[[ 2.1  0.8]\n",
      " [ 1.3  2.5]]\n"
     ]
    }
   ],
   "source": [
    "x=np.array([[1.2,2.5],[3.2,1.8],[1.1,4.3]])\n",
    "y=np.array([[2.1,0.8],[1.3,2.5]])\n",
    "print(x)\n",
    "print(y)"
   ]
  },
  {
   "cell_type": "code",
   "execution_count": 95,
   "metadata": {},
   "outputs": [
    {
     "name": "stdout",
     "output_type": "stream",
     "text": [
      "[[ 1.2  3.2  1.1]\n",
      " [ 2.5  1.8  4.3]]\n"
     ]
    }
   ],
   "source": [
    "# transposition\n",
    "print(np.transpose(x))"
   ]
  },
  {
   "cell_type": "code",
   "execution_count": 96,
   "metadata": {},
   "outputs": [
    {
     "name": "stdout",
     "output_type": "stream",
     "text": [
      "[[  5.77   7.21]\n",
      " [  9.06   7.06]\n",
      " [  7.9   11.63]]\n"
     ]
    }
   ],
   "source": [
    "# multiplication\n",
    "print(np.dot(x,y))"
   ]
  },
  {
   "cell_type": "code",
   "execution_count": 97,
   "metadata": {},
   "outputs": [
    {
     "name": "stdout",
     "output_type": "stream",
     "text": [
      "4.21\n"
     ]
    }
   ],
   "source": [
    "# déterminant\n",
    "print(np.linalg.det(y))"
   ]
  },
  {
   "cell_type": "code",
   "execution_count": 98,
   "metadata": {},
   "outputs": [
    {
     "name": "stdout",
     "output_type": "stream",
     "text": [
      "[[ 0.59382423 -0.19002375]\n",
      " [-0.3087886   0.49881235]]\n"
     ]
    }
   ],
   "source": [
    "# inversion\n",
    "print(np.linalg.inv(y))"
   ]
  },
  {
   "cell_type": "code",
   "execution_count": 99,
   "metadata": {},
   "outputs": [
    {
     "name": "stdout",
     "output_type": "stream",
     "text": [
      "[ 0.81947743 -0.02612827]\n"
     ]
    }
   ],
   "source": [
    "# Résolution de système linéaire y.a=z\n",
    "z=np.array([1.7,1.0])\n",
    "print(np.linalg.solve(y,z))"
   ]
  },
  {
   "cell_type": "code",
   "execution_count": 100,
   "metadata": {},
   "outputs": [
    {
     "name": "stdout",
     "output_type": "stream",
     "text": [
      "[ 0.81947743 -0.02612827]\n"
     ]
    }
   ],
   "source": [
    "# vérification a=y^(-1).z\n",
    "print(np.dot(np.linalg.inv(y),z))"
   ]
  },
  {
   "cell_type": "code",
   "execution_count": 101,
   "metadata": {},
   "outputs": [
    {
     "name": "stdout",
     "output_type": "stream",
     "text": [
      "[[ 12.89  13.49]\n",
      " [ 13.49  27.98]]\n"
     ]
    }
   ],
   "source": [
    "# matrice symétrique avec x^t.x\n",
    "s=np.dot(np.transpose(x),x)\n",
    "print(s)"
   ]
  },
  {
   "cell_type": "code",
   "execution_count": 102,
   "metadata": {},
   "outputs": [
    {
     "name": "stdout",
     "output_type": "stream",
     "text": [
      "(array([  4.97837925,  35.89162075]), array([[-0.86259502,  0.50589508],\n",
      "       [ 0.50589508,  0.86259502]]))\n"
     ]
    }
   ],
   "source": [
    "# valeurs et vecteurs propres\n",
    "print(np.linalg.eigh(s))"
   ]
  },
  {
   "cell_type": "code",
   "execution_count": null,
   "metadata": {
    "collapsed": true
   },
   "outputs": [],
   "source": []
  },
  {
   "cell_type": "code",
   "execution_count": null,
   "metadata": {
    "collapsed": true
   },
   "outputs": [],
   "source": []
  }
 ],
 "metadata": {
  "kernelspec": {
   "display_name": "Python 3 (ipykernel)",
   "language": "python",
   "name": "python3"
  },
  "language_info": {
   "codemirror_mode": {
    "name": "ipython",
    "version": 3
   },
   "file_extension": ".py",
   "mimetype": "text/x-python",
   "name": "python",
   "nbconvert_exporter": "python",
   "pygments_lexer": "ipython3",
   "version": "3.9.12"
  }
 },
 "nbformat": 4,
 "nbformat_minor": 2
}
